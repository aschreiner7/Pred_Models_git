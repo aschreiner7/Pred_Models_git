{
 "cells": [
  {
   "cell_type": "markdown",
   "metadata": {},
   "source": [
    "# Support Vector Machines for Classification"
   ]
  },
  {
   "cell_type": "code",
   "execution_count": 1,
   "metadata": {},
   "outputs": [],
   "source": [
    "#import libraries\n",
    "\n",
    "import numpy as np\n",
    "\n",
    "\n",
    "#matplotlib\n",
    "import matplotlib.pyplot as plt\n",
    "\n",
    "#models\n",
    "from sklearn import svm, datasets\n",
    "\n",
    "#preprocessing\n",
    "from sklearn.model_selection import train_test_split, GridSearchCV, cross_val_score\n",
    "\n",
    "#model validation\n",
    "from sklearn.metrics import confusion_matrix, classification_report, ConfusionMatrixDisplay, accuracy_score\n",
    "\n",
    "\n",
    "%matplotlib inline\n",
    "\n",
    "#use to read html\n",
    "from bs4 import BeautifulSoup"
   ]
  },
  {
   "cell_type": "code",
   "execution_count": 9,
   "metadata": {},
   "outputs": [
    {
     "data": {
      "text/plain": [
       "<html><body><p>.. _iris_dataset:\n",
       "\n",
       "Iris plants dataset\n",
       "--------------------\n",
       "\n",
       "**Data Set Characteristics:**\n",
       "\n",
       "    :Number of Instances: 150 (50 in each of three classes)\n",
       "    :Number of Attributes: 4 numeric, predictive attributes and the class\n",
       "    :Attribute Information:\n",
       "        - sepal length in cm\n",
       "        - sepal width in cm\n",
       "        - petal length in cm\n",
       "        - petal width in cm\n",
       "        - class:\n",
       "                - Iris-Setosa\n",
       "                - Iris-Versicolour\n",
       "                - Iris-Virginica\n",
       "                \n",
       "    :Summary Statistics:\n",
       "\n",
       "    ============== ==== ==== ======= ===== ====================\n",
       "                    Min  Max   Mean    SD   Class Correlation\n",
       "    ============== ==== ==== ======= ===== ====================\n",
       "    sepal length:   4.3  7.9   5.84   0.83    0.7826\n",
       "    sepal width:    2.0  4.4   3.05   0.43   -0.4194\n",
       "    petal length:   1.0  6.9   3.76   1.76    0.9490  (high!)\n",
       "    petal width:    0.1  2.5   1.20   0.76    0.9565  (high!)\n",
       "    ============== ==== ==== ======= ===== ====================\n",
       "\n",
       "    :Missing Attribute Values: None\n",
       "    :Class Distribution: 33.3% for each of 3 classes.\n",
       "    :Creator: R.A. Fisher\n",
       "    :Donor: Michael Marshall (MARSHALL%PLU@io.arc.nasa.gov)\n",
       "    :Date: July, 1988\n",
       "\n",
       "The famous Iris database, first used by Sir R.A. Fisher. The dataset is taken\n",
       "from Fisher's paper. Note that it's the same as in R, but not as in the UCI\n",
       "Machine Learning Repository, which has two wrong data points.\n",
       "\n",
       "This is perhaps the best known database to be found in the\n",
       "pattern recognition literature.  Fisher's paper is a classic in the field and\n",
       "is referenced frequently to this day.  (See Duda &amp; Hart, for example.)  The\n",
       "data set contains 3 classes of 50 instances each, where each class refers to a\n",
       "type of iris plant.  One class is linearly separable from the other 2; the\n",
       "latter are NOT linearly separable from each other.\n",
       "\n",
       ".. topic:: References\n",
       "\n",
       "   - Fisher, R.A. \"The use of multiple measurements in taxonomic problems\"\n",
       "     Annual Eugenics, 7, Part II, 179-188 (1936); also in \"Contributions to\n",
       "     Mathematical Statistics\" (John Wiley, NY, 1950).\n",
       "   - Duda, R.O., &amp; Hart, P.E. (1973) Pattern Classification and Scene Analysis.\n",
       "     (Q327.D83) John Wiley &amp; Sons.  ISBN 0-471-22361-1.  See page 218.\n",
       "   - Dasarathy, B.V. (1980) \"Nosing Around the Neighborhood: A New System\n",
       "     Structure and Classification Rule for Recognition in Partially Exposed\n",
       "     Environments\".  IEEE Transactions on Pattern Analysis and Machine\n",
       "     Intelligence, Vol. PAMI-2, No. 1, 67-71.\n",
       "   - Gates, G.W. (1972) \"The Reduced Nearest Neighbor Rule\".  IEEE Transactions\n",
       "     on Information Theory, May 1972, 431-433.\n",
       "   - See also: 1988 MLC Proceedings, 54-64.  Cheeseman et al\"s AUTOCLASS II\n",
       "     conceptual clustering system finds 3 classes in the data.\n",
       "   - Many, many more ...</p></body></html>"
      ]
     },
     "execution_count": 9,
     "metadata": {},
     "output_type": "execute_result"
    }
   ],
   "source": [
    "# import some data to play with\n",
    "#Use the classic iris dataset\n",
    "iris = datasets.load_iris()\n",
    "\n",
    "BeautifulSoup(iris.DESCR)"
   ]
  },
  {
   "cell_type": "code",
   "execution_count": 10,
   "metadata": {},
   "outputs": [],
   "source": [
    "X = iris.data[:, :2]  # we only take the first two features. \n",
    "y = iris.target\n",
    "\n",
    "X_train, X_test, y_train, y_test = train_test_split(\n",
    "    X, y, test_size=0.2, random_state=0, stratify=y)"
   ]
  },
  {
   "cell_type": "code",
   "execution_count": 11,
   "metadata": {},
   "outputs": [
    {
     "name": "stderr",
     "output_type": "stream",
     "text": [
      "/Users/nathanielbozarth/opt/anaconda3/lib/python3.8/site-packages/sklearn/svm/_base.py:985: ConvergenceWarning: Liblinear failed to converge, increase the number of iterations.\n",
      "  warnings.warn(\"Liblinear failed to converge, increase \"\n"
     ]
    }
   ],
   "source": [
    "# create four instances of SVM and fit our data. We do not scale our\n",
    "# data since we want to plot the support vectors\n",
    "\n",
    "\n",
    "C = 1.0  # SVM regularization parameter, 1/lamda\n",
    "svc = svm.SVC(kernel='linear', C=C).fit(X_train, y_train)\n",
    "rbf_svc = svm.SVC(kernel='rbf', gamma=0.7, C=C).fit(X_train, y_train)\n",
    "poly_svc = svm.SVC(kernel='poly', degree=3, C=C).fit(X_train, y_train)\n",
    "lin_svc = svm.LinearSVC(C=C).fit(X_train, y_train)\n"
   ]
  },
  {
   "cell_type": "code",
   "execution_count": 12,
   "metadata": {},
   "outputs": [
    {
     "data": {
      "image/png": "[encoded data removed]",
      "text/plain": [
       "<Figure size 432x288 with 4 Axes>"
      ]
     },
     "metadata": {},
     "output_type": "display_data"
    }
   ],
   "source": [
    "#Show SVM Plots\n",
    "# create a mesh plot area in which to build plot\n",
    "h = .02  # step size in the mesh\n",
    "x_min, x_max = X[:, 0].min() - 1, X[:, 0].max() + 1\n",
    "y_min, y_max = X[:, 1].min() - 1, X[:, 1].max() + 1\n",
    "xx, yy = np.meshgrid(np.arange(x_min, x_max, h),\n",
    "                     np.arange(y_min, y_max, h))\n",
    "\n",
    "# title for the plots\n",
    "titles = ['SVC with linear kernel',\n",
    "          'LinearSVC (linear kernel)',\n",
    "          'SVC with RBF kernel',\n",
    "          'SVC with polynomial (degree 3) kernel']\n",
    "\n",
    "\n",
    "for i, clf in enumerate((svc, lin_svc, rbf_svc, poly_svc)):\n",
    "    # Plot the decision boundary. For that, we will assign a color to each\n",
    "    # point in the mesh [x_min, m_max]x[y_min, y_max].\n",
    "    plt.subplot(2, 2, i + 1)\n",
    "    plt.subplots_adjust(wspace=0.4, hspace=0.4)\n",
    "\n",
    "    Z = clf.predict(np.c_[xx.ravel(), yy.ravel()])\n",
    "\n",
    "    # Put the result into a color plot\n",
    "    Z = Z.reshape(xx.shape)\n",
    "    plt.contourf(xx, yy, Z, cmap=plt.cm.Paired, alpha=0.8)\n",
    "\n",
    "    # Plot also the training points\n",
    "    plt.scatter(X[:, 0], X[:, 1], c=y, cmap=plt.cm.Paired)\n",
    "    plt.xlabel('Sepal length')\n",
    "    plt.ylabel('Sepal width')\n",
    "    plt.xlim(xx.min(), xx.max())\n",
    "    plt.ylim(yy.min(), yy.max())\n",
    "    plt.xticks(())\n",
    "    plt.yticks(())\n",
    "    plt.title(titles[i])\n"
   ]
  },
  {
   "cell_type": "markdown",
   "metadata": {},
   "source": [
    "## How do our models work with unseen data?"
   ]
  },
  {
   "cell_type": "code",
   "execution_count": 13,
   "metadata": {},
   "outputs": [
    {
     "name": "stdout",
     "output_type": "stream",
     "text": [
      "svc\n",
      "Accuracy Score:  1.0\n",
      "              precision    recall  f1-score   support\n",
      "\n",
      "           0       1.00      1.00      1.00        10\n",
      "           1       1.00      1.00      1.00        10\n",
      "           2       1.00      1.00      1.00        10\n",
      "\n",
      "    accuracy                           1.00        30\n",
      "   macro avg       1.00      1.00      1.00        30\n",
      "weighted avg       1.00      1.00      1.00        30\n",
      "\n",
      "\n",
      "lin_svc\n",
      "Accuracy Score:  0.97\n",
      "              precision    recall  f1-score   support\n",
      "\n",
      "           0       1.00      1.00      1.00        10\n",
      "           1       0.91      1.00      0.95        10\n",
      "           2       1.00      0.90      0.95        10\n",
      "\n",
      "    accuracy                           0.97        30\n",
      "   macro avg       0.97      0.97      0.97        30\n",
      "weighted avg       0.97      0.97      0.97        30\n",
      "\n",
      "\n",
      "rbf_svc\n",
      "Accuracy Score:  1.0\n",
      "              precision    recall  f1-score   support\n",
      "\n",
      "           0       1.00      1.00      1.00        10\n",
      "           1       1.00      1.00      1.00        10\n",
      "           2       1.00      1.00      1.00        10\n",
      "\n",
      "    accuracy                           1.00        30\n",
      "   macro avg       1.00      1.00      1.00        30\n",
      "weighted avg       1.00      1.00      1.00        30\n",
      "\n",
      "\n",
      "poly_svc\n",
      "Accuracy Score:  1.0\n",
      "              precision    recall  f1-score   support\n",
      "\n",
      "           0       1.00      1.00      1.00        10\n",
      "           1       1.00      1.00      1.00        10\n",
      "           2       1.00      1.00      1.00        10\n",
      "\n",
      "    accuracy                           1.00        30\n",
      "   macro avg       1.00      1.00      1.00        30\n",
      "weighted avg       1.00      1.00      1.00        30\n",
      "\n",
      "\n"
     ]
    },
    {
     "name": "stderr",
     "output_type": "stream",
     "text": [
      "/Users/nathanielbozarth/opt/anaconda3/lib/python3.8/site-packages/sklearn/svm/_base.py:985: ConvergenceWarning: Liblinear failed to converge, increase the number of iterations.\n",
      "  warnings.warn(\"Liblinear failed to converge, increase \"\n"
     ]
    }
   ],
   "source": [
    "#first, let's expand our feature space to use all features\n",
    "X = iris.data\n",
    "y = iris.target\n",
    "\n",
    "X_train, X_test, y_train, y_test = train_test_split(\n",
    "    X, y, test_size=0.2, random_state=0, stratify=y)\n",
    "\n",
    "C = 1.0  # SVM regularization parameter, 1/lamda\n",
    "svc = svm.SVC(kernel='linear', C=C).fit(X_train, y_train)\n",
    "rbf_svc = svm.SVC(kernel='rbf', gamma=0.7, C=C).fit(X_train, y_train)\n",
    "poly_svc = svm.SVC(kernel='poly', degree=3, C=C).fit(X_train, y_train)\n",
    "lin_svc = svm.LinearSVC(C=C).fit(X_train, y_train)\n",
    "models = {'svc':svc, 'lin_svc':lin_svc, 'rbf_svc':rbf_svc, 'poly_svc':poly_svc}\n",
    "\n",
    "for key, value in models.items():\n",
    "    print(key)\n",
    "    print(\"Accuracy Score: \", round(accuracy_score(y_test, value.predict(X_test)),2))\n",
    "    print(classification_report(y_test, value.predict(X_test)))\n",
    "    print(\"\")\n",
    "    \n",
    "    "
   ]
  },
  {
   "cell_type": "markdown",
   "metadata": {},
   "source": [
    "# Digits Dataset"
   ]
  },
  {
   "cell_type": "code",
   "execution_count": 2,
   "metadata": {},
   "outputs": [
    {
     "data": {
      "text/plain": [
       "<html><body><p>.. _digits_dataset:\n",
       "\n",
       "Optical recognition of handwritten digits dataset\n",
       "--------------------------------------------------\n",
       "\n",
       "**Data Set Characteristics:**\n",
       "\n",
       "    :Number of Instances: 1797\n",
       "    :Number of Attributes: 64\n",
       "    :Attribute Information: 8x8 image of integer pixels in the range 0..16.\n",
       "    :Missing Attribute Values: None\n",
       "    :Creator: E. Alpaydin (alpaydin '@' boun.edu.tr)\n",
       "    :Date: July; 1998\n",
       "\n",
       "This is a copy of the test set of the UCI ML hand-written digits datasets\n",
       "https://archive.ics.uci.edu/ml/datasets/Optical+Recognition+of+Handwritten+Digits\n",
       "\n",
       "The data set contains images of hand-written digits: 10 classes where\n",
       "each class refers to a digit.\n",
       "\n",
       "Preprocessing programs made available by NIST were used to extract\n",
       "normalized bitmaps of handwritten digits from a preprinted form. From a\n",
       "total of 43 people, 30 contributed to the training set and different 13\n",
       "to the test set. 32x32 bitmaps are divided into nonoverlapping blocks of\n",
       "4x4 and the number of on pixels are counted in each block. This generates\n",
       "an input matrix of 8x8 where each element is an integer in the range\n",
       "0..16. This reduces dimensionality and gives invariance to small\n",
       "distortions.\n",
       "\n",
       "For info on NIST preprocessing routines, see M. D. Garris, J. L. Blue, G.\n",
       "T. Candela, D. L. Dimmick, J. Geist, P. J. Grother, S. A. Janet, and C.\n",
       "L. Wilson, NIST Form-Based Handprint Recognition System, NISTIR 5469,\n",
       "1994.\n",
       "\n",
       ".. topic:: References\n",
       "\n",
       "  - C. Kaynak (1995) Methods of Combining Multiple Classifiers and Their\n",
       "    Applications to Handwritten Digit Recognition, MSc Thesis, Institute of\n",
       "    Graduate Studies in Science and Engineering, Bogazici University.\n",
       "  - E. Alpaydin, C. Kaynak (1998) Cascading Classifiers, Kybernetika.\n",
       "  - Ken Tang and Ponnuthurai N. Suganthan and Xi Yao and A. Kai Qin.\n",
       "    Linear dimensionalityreduction using relevance weighted LDA. School of\n",
       "    Electrical and Electronic Engineering Nanyang Technological University.\n",
       "    2005.\n",
       "  - Claudio Gentile. A New Approximate Maximal Margin Classification\n",
       "    Algorithm. NIPS. 2000.\n",
       "</p></body></html>"
      ]
     },
     "execution_count": 2,
     "metadata": {},
     "output_type": "execute_result"
    }
   ],
   "source": [
    "digits = datasets.load_digits()\n",
    "\n",
    "BeautifulSoup(digits.DESCR)"
   ]
  },
  {
   "cell_type": "code",
   "execution_count": 3,
   "metadata": {},
   "outputs": [
    {
     "name": "stdout",
     "output_type": "stream",
     "text": [
      "X shape:  (1797, 64)\n",
      "y shape:  (1797,)\n"
     ]
    }
   ],
   "source": [
    "X = digits.data  \n",
    "y = digits.target\n",
    "\n",
    "X_train, X_test, y_train, y_test = train_test_split(\n",
    "    X, y, test_size=0.3, random_state=0, stratify=y)\n",
    "\n",
    "print('X shape: ', X.shape)\n",
    "print('y shape: ', y.shape)"
   ]
  },
  {
   "cell_type": "code",
   "execution_count": 4,
   "metadata": {},
   "outputs": [
    {
     "name": "stderr",
     "output_type": "stream",
     "text": [
      "/Users/nathanielbozarth/opt/anaconda3/lib/python3.8/site-packages/sklearn/svm/_base.py:985: ConvergenceWarning: Liblinear failed to converge, increase the number of iterations.\n",
      "  warnings.warn(\"Liblinear failed to converge, increase \"\n"
     ]
    },
    {
     "name": "stdout",
     "output_type": "stream",
     "text": [
      "svc\n",
      "Accuracy Score:  0.98\n",
      "              precision    recall  f1-score   support\n",
      "\n",
      "           0       1.00      1.00      1.00        54\n",
      "           1       0.93      1.00      0.96        55\n",
      "           2       1.00      1.00      1.00        53\n",
      "           3       0.98      0.98      0.98        55\n",
      "           4       1.00      1.00      1.00        54\n",
      "           5       0.95      1.00      0.97        55\n",
      "           6       1.00      0.98      0.99        54\n",
      "           7       0.98      1.00      0.99        54\n",
      "           8       1.00      0.88      0.94        52\n",
      "           9       0.98      0.96      0.97        54\n",
      "\n",
      "    accuracy                           0.98       540\n",
      "   macro avg       0.98      0.98      0.98       540\n",
      "weighted avg       0.98      0.98      0.98       540\n",
      "\n",
      "\n",
      "lin_svc\n",
      "Accuracy Score:  0.94\n",
      "              precision    recall  f1-score   support\n",
      "\n",
      "           0       1.00      0.98      0.99        54\n",
      "           1       0.84      0.95      0.89        55\n",
      "           2       1.00      0.91      0.95        53\n",
      "           3       0.86      0.93      0.89        55\n",
      "           4       0.98      0.91      0.94        54\n",
      "           5       0.93      0.98      0.96        55\n",
      "           6       0.96      1.00      0.98        54\n",
      "           7       0.98      0.93      0.95        54\n",
      "           8       0.90      0.87      0.88        52\n",
      "           9       0.94      0.93      0.93        54\n",
      "\n",
      "    accuracy                           0.94       540\n",
      "   macro avg       0.94      0.94      0.94       540\n",
      "weighted avg       0.94      0.94      0.94       540\n",
      "\n",
      "\n",
      "rbf_svc\n",
      "Accuracy Score:  0.1\n",
      "              precision    recall  f1-score   support\n",
      "\n",
      "           0       0.00      0.00      0.00        54\n",
      "           1       0.00      0.00      0.00        55\n",
      "           2       0.00      0.00      0.00        53\n",
      "           3       0.10      1.00      0.18        55\n",
      "           4       0.00      0.00      0.00        54\n",
      "           5       0.00      0.00      0.00        55\n",
      "           6       0.00      0.00      0.00        54\n",
      "           7       0.00      0.00      0.00        54\n",
      "           8       0.00      0.00      0.00        52\n",
      "           9       0.00      0.00      0.00        54\n",
      "\n",
      "    accuracy                           0.10       540\n",
      "   macro avg       0.01      0.10      0.02       540\n",
      "weighted avg       0.01      0.10      0.02       540\n",
      "\n",
      "\n",
      "poly_svc\n",
      "Accuracy Score:  0.99\n",
      "              precision    recall  f1-score   support\n",
      "\n",
      "           0       1.00      1.00      1.00        54\n",
      "           1       0.96      1.00      0.98        55\n",
      "           2       1.00      1.00      1.00        53\n",
      "           3       1.00      0.98      0.99        55\n",
      "           4       1.00      1.00      1.00        54\n",
      "           5       0.98      1.00      0.99        55\n",
      "           6       1.00      1.00      1.00        54\n",
      "           7       0.98      1.00      0.99        54\n",
      "           8       1.00      0.96      0.98        52\n",
      "           9       1.00      0.98      0.99        54\n",
      "\n",
      "    accuracy                           0.99       540\n",
      "   macro avg       0.99      0.99      0.99       540\n",
      "weighted avg       0.99      0.99      0.99       540\n",
      "\n",
      "\n"
     ]
    },
    {
     "name": "stderr",
     "output_type": "stream",
     "text": [
      "/Users/nathanielbozarth/opt/anaconda3/lib/python3.8/site-packages/sklearn/metrics/_classification.py:1248: UndefinedMetricWarning: Precision and F-score are ill-defined and being set to 0.0 in labels with no predicted samples. Use `zero_division` parameter to control this behavior.\n",
      "  _warn_prf(average, modifier, msg_start, len(result))\n",
      "/Users/nathanielbozarth/opt/anaconda3/lib/python3.8/site-packages/sklearn/metrics/_classification.py:1248: UndefinedMetricWarning: Precision and F-score are ill-defined and being set to 0.0 in labels with no predicted samples. Use `zero_division` parameter to control this behavior.\n",
      "  _warn_prf(average, modifier, msg_start, len(result))\n",
      "/Users/nathanielbozarth/opt/anaconda3/lib/python3.8/site-packages/sklearn/metrics/_classification.py:1248: UndefinedMetricWarning: Precision and F-score are ill-defined and being set to 0.0 in labels with no predicted samples. Use `zero_division` parameter to control this behavior.\n",
      "  _warn_prf(average, modifier, msg_start, len(result))\n"
     ]
    }
   ],
   "source": [
    "C = 1.0  # SVM regularization parameter, 1/lamda\n",
    "svc = svm.SVC(kernel='linear', C=C).fit(X_train, y_train)\n",
    "rbf_svc = svm.SVC(kernel='rbf', gamma=0.7, C=C).fit(X_train, y_train)\n",
    "poly_svc = svm.SVC(kernel='poly', degree=3, C=C).fit(X_train, y_train)\n",
    "lin_svc = svm.LinearSVC(C=C).fit(X_train, y_train)\n",
    "models = {'svc':svc, 'lin_svc':lin_svc, 'rbf_svc':rbf_svc, 'poly_svc':poly_svc}\n",
    "\n",
    "\n",
    "for key, value in models.items():\n",
    "    print(key)\n",
    "    print(\"Accuracy Score: \", round(accuracy_score(y_test, value.predict(X_test)),2))\n",
    "    print(classification_report(y_test, value.predict(X_test)))\n",
    "    print(\"\")"
   ]
  },
  {
   "cell_type": "markdown",
   "metadata": {},
   "source": [
    " ## Grid Search\n",
    "\n",
    " What about if we grid search it and choose F1 as our error metric?"
   ]
  },
  {
   "cell_type": "code",
   "execution_count": 5,
   "metadata": {},
   "outputs": [
    {
     "data": {
      "text/plain": [
       "GridSearchCV(estimator=SVC(),\n",
       "             param_grid=[{'C': [0.5, 1, 5],\n",
       "                          'kernel': ['linear', 'rbf', 'sigmoid']},\n",
       "                         {'C': [0.5, 1, 5], 'degree': [2, 3, 4],\n",
       "                          'kernel': ['poly']}])"
      ]
     },
     "execution_count": 5,
     "metadata": {},
     "output_type": "execute_result"
    }
   ],
   "source": [
    "\n",
    "param_grid = [\n",
    "    {'kernel': ['linear', 'rbf', 'sigmoid'],\n",
    "      'C': [.5, 1, 5]},\n",
    "    {'kernel': ['poly'],\n",
    "      'degree': [2, 3, 4],\n",
    "      'C': [.5, 1, 5]}\n",
    "    ]\n",
    "svc = svm.SVC()\n",
    "clf = GridSearchCV(svc, param_grid)\n",
    "clf.fit(X_train, y_train)"
   ]
  },
  {
   "cell_type": "code",
   "execution_count": 6,
   "metadata": {},
   "outputs": [
    {
     "data": {
      "text/plain": [
       "{'C': 1, 'degree': 2, 'kernel': 'poly'}"
      ]
     },
     "execution_count": 6,
     "metadata": {},
     "output_type": "execute_result"
    }
   ],
   "source": [
    "clf.best_params_"
   ]
  },
  {
   "cell_type": "code",
   "execution_count": 7,
   "metadata": {},
   "outputs": [
    {
     "name": "stdout",
     "output_type": "stream",
     "text": [
      "Accuracy Score:  0.99\n",
      "              precision    recall  f1-score   support\n",
      "\n",
      "           0       1.00      1.00      1.00        36\n",
      "           1       0.97      1.00      0.99        36\n",
      "           2       1.00      1.00      1.00        35\n",
      "           3       1.00      0.97      0.99        37\n",
      "           4       1.00      0.97      0.99        36\n",
      "           5       0.97      1.00      0.99        37\n",
      "           6       1.00      1.00      1.00        36\n",
      "           7       0.97      1.00      0.99        36\n",
      "           8       0.97      0.97      0.97        35\n",
      "           9       1.00      0.97      0.99        36\n",
      "\n",
      "    accuracy                           0.99       360\n",
      "   macro avg       0.99      0.99      0.99       360\n",
      "weighted avg       0.99      0.99      0.99       360\n",
      "\n"
     ]
    }
   ],
   "source": [
    "best = svm.SVC()\n",
    "best.set_params(**clf.best_params_)\n",
    "best.fit(X_train, y_train)\n",
    "\n",
    "\n",
    "print(\"Accuracy Score: \", round(accuracy_score(y_test, best.predict(X_test)),2))\n",
    "print(classification_report(y_test, best.predict(X_test)))\n"
   ]
  },
  {
   "cell_type": "code",
   "execution_count": 8,
   "metadata": {},
   "outputs": [
    {
     "name": "stdout",
     "output_type": "stream",
     "text": [
      "Cross Validation Score for each K [0.98611111 0.99305556 1.         0.99305556 0.99305556 0.95833333\n",
      " 0.97916667 1.         0.99300699 0.98601399]\n"
     ]
    },
    {
     "data": {
      "text/plain": [
       "0.9881798756798756"
      ]
     },
     "execution_count": 8,
     "metadata": {},
     "output_type": "execute_result"
    }
   ],
   "source": [
    "scores = cross_val_score(best, X_train, y_train, cv=10)\n",
    "print(\"Cross Validation Score for each K\",scores)\n",
    "scores.mean()    "
   ]
  },
  {
   "cell_type": "code",
   "execution_count": null,
   "metadata": {},
   "outputs": [],
   "source": []
  }
 ],
 "metadata": {
  "kernelspec": {
   "display_name": "Python 3 (ipykernel)",
   "language": "python",
   "name": "python3"
  },
  "language_info": {
   "codemirror_mode": {
    "name": "ipython",
    "version": 3
   },
   "file_extension": ".py",
   "mimetype": "text/x-python",
   "name": "python",
   "nbconvert_exporter": "python",
   "pygments_lexer": "ipython3",
   "version": "3.8.2"
  }
 },
 "nbformat": 4,
 "nbformat_minor": 1
}
