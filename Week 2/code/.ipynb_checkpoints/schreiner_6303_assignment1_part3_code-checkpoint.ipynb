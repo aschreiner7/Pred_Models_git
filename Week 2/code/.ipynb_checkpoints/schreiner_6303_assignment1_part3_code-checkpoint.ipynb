{
 "cells": [
  {
   "cell_type": "markdown",
   "metadata": {},
   "source": [
    "# Assignment 1 - Part 3 - Code Submission for Andy Schreiner\n",
    "## BIA 6303 - Predictive Models - Fall 2021\n",
    "Note: main body of code was borrowed and adopted from Lectures of Rockhurst University BIA6303 - Instructor Nathaiel Bozarth "
   ]
  },
  {
   "cell_type": "code",
   "execution_count": 1,
   "metadata": {},
   "outputs": [],
   "source": [
    "import numpy as np\n",
    "import pandas as pd\n",
    "\n",
    "#url handler\n",
    "from urllib.request import urlopen\n",
    "\n",
    "#visualization libraries\n",
    "from IPython.display import Image\n",
    "import matplotlib.pyplot as plt\n",
    "#specify that we want matplotlib to plot in this notebook\n",
    "%matplotlib inline \n",
    "import seaborn as sns\n",
    "\n",
    "#z scaler\n",
    "from sklearn.preprocessing import StandardScaler\n",
    "\n",
    "#models\n",
    "from sklearn.feature_selection import *\n",
    "from sklearn import linear_model\n",
    "#from sklearn.linear_model import LinearRegression\n",
    "#from sklearn.linear_model import RANSACRegressor\n",
    "from sklearn.preprocessing import PolynomialFeatures\n",
    "from sklearn.tree import DecisionTreeRegressor\n",
    "from sklearn.ensemble import RandomForestRegressor\n",
    "from sklearn.linear_model import Lasso\n",
    "from sklearn import svm\n",
    "\n",
    "#data processing and validaiton\n",
    "from sklearn.model_selection  import *\n",
    "from sklearn.metrics import r2_score\n",
    "from sklearn.metrics import mean_squared_error\n",
    "\n",
    "#data\n",
    "#from sklearn.datasets import fetch_california_housing\n",
    "\n",
    "#use to read html\n",
    "from bs4 import BeautifulSoup"
   ]
  },
  {
   "cell_type": "markdown",
   "metadata": {},
   "source": [
    "### Load in the dataset from UCI"
   ]
  },
  {
   "cell_type": "code",
   "execution_count": 2,
   "metadata": {
    "scrolled": true
   },
   "outputs": [
    {
     "data": {
      "text/html": [
       "<div>\n",
       "<style scoped>\n",
       "    .dataframe tbody tr th:only-of-type {\n",
       "        vertical-align: middle;\n",
       "    }\n",
       "\n",
       "    .dataframe tbody tr th {\n",
       "        vertical-align: top;\n",
       "    }\n",
       "\n",
       "    .dataframe thead th {\n",
       "        text-align: right;\n",
       "    }\n",
       "</style>\n",
       "<table border=\"1\" class=\"dataframe\">\n",
       "  <thead>\n",
       "    <tr style=\"text-align: right;\">\n",
       "      <th></th>\n",
       "      <th>0</th>\n",
       "      <th>1</th>\n",
       "      <th>2</th>\n",
       "      <th>3</th>\n",
       "      <th>4</th>\n",
       "      <th>5</th>\n",
       "      <th>6</th>\n",
       "      <th>7</th>\n",
       "      <th>8</th>\n",
       "      <th>9</th>\n",
       "      <th>...</th>\n",
       "      <th>118</th>\n",
       "      <th>119</th>\n",
       "      <th>120</th>\n",
       "      <th>121</th>\n",
       "      <th>122</th>\n",
       "      <th>123</th>\n",
       "      <th>124</th>\n",
       "      <th>125</th>\n",
       "      <th>126</th>\n",
       "      <th>127</th>\n",
       "    </tr>\n",
       "  </thead>\n",
       "  <tbody>\n",
       "    <tr>\n",
       "      <th>0</th>\n",
       "      <td>8</td>\n",
       "      <td>?</td>\n",
       "      <td>?</td>\n",
       "      <td>Lakewoodcity</td>\n",
       "      <td>1</td>\n",
       "      <td>0.19</td>\n",
       "      <td>0.33</td>\n",
       "      <td>0.02</td>\n",
       "      <td>0.90</td>\n",
       "      <td>0.12</td>\n",
       "      <td>...</td>\n",
       "      <td>0.12</td>\n",
       "      <td>0.26</td>\n",
       "      <td>0.20</td>\n",
       "      <td>0.06</td>\n",
       "      <td>0.04</td>\n",
       "      <td>0.9</td>\n",
       "      <td>0.5</td>\n",
       "      <td>0.32</td>\n",
       "      <td>0.14</td>\n",
       "      <td>0.20</td>\n",
       "    </tr>\n",
       "    <tr>\n",
       "      <th>1</th>\n",
       "      <td>53</td>\n",
       "      <td>?</td>\n",
       "      <td>?</td>\n",
       "      <td>Tukwilacity</td>\n",
       "      <td>1</td>\n",
       "      <td>0.00</td>\n",
       "      <td>0.16</td>\n",
       "      <td>0.12</td>\n",
       "      <td>0.74</td>\n",
       "      <td>0.45</td>\n",
       "      <td>...</td>\n",
       "      <td>0.02</td>\n",
       "      <td>0.12</td>\n",
       "      <td>0.45</td>\n",
       "      <td>?</td>\n",
       "      <td>?</td>\n",
       "      <td>?</td>\n",
       "      <td>?</td>\n",
       "      <td>0.00</td>\n",
       "      <td>?</td>\n",
       "      <td>0.67</td>\n",
       "    </tr>\n",
       "    <tr>\n",
       "      <th>2</th>\n",
       "      <td>24</td>\n",
       "      <td>?</td>\n",
       "      <td>?</td>\n",
       "      <td>Aberdeentown</td>\n",
       "      <td>1</td>\n",
       "      <td>0.00</td>\n",
       "      <td>0.42</td>\n",
       "      <td>0.49</td>\n",
       "      <td>0.56</td>\n",
       "      <td>0.17</td>\n",
       "      <td>...</td>\n",
       "      <td>0.01</td>\n",
       "      <td>0.21</td>\n",
       "      <td>0.02</td>\n",
       "      <td>?</td>\n",
       "      <td>?</td>\n",
       "      <td>?</td>\n",
       "      <td>?</td>\n",
       "      <td>0.00</td>\n",
       "      <td>?</td>\n",
       "      <td>0.43</td>\n",
       "    </tr>\n",
       "    <tr>\n",
       "      <th>3</th>\n",
       "      <td>34</td>\n",
       "      <td>5</td>\n",
       "      <td>81440</td>\n",
       "      <td>Willingborotownship</td>\n",
       "      <td>1</td>\n",
       "      <td>0.04</td>\n",
       "      <td>0.77</td>\n",
       "      <td>1.00</td>\n",
       "      <td>0.08</td>\n",
       "      <td>0.12</td>\n",
       "      <td>...</td>\n",
       "      <td>0.02</td>\n",
       "      <td>0.39</td>\n",
       "      <td>0.28</td>\n",
       "      <td>?</td>\n",
       "      <td>?</td>\n",
       "      <td>?</td>\n",
       "      <td>?</td>\n",
       "      <td>0.00</td>\n",
       "      <td>?</td>\n",
       "      <td>0.12</td>\n",
       "    </tr>\n",
       "    <tr>\n",
       "      <th>4</th>\n",
       "      <td>42</td>\n",
       "      <td>95</td>\n",
       "      <td>6096</td>\n",
       "      <td>Bethlehemtownship</td>\n",
       "      <td>1</td>\n",
       "      <td>0.01</td>\n",
       "      <td>0.55</td>\n",
       "      <td>0.02</td>\n",
       "      <td>0.95</td>\n",
       "      <td>0.09</td>\n",
       "      <td>...</td>\n",
       "      <td>0.04</td>\n",
       "      <td>0.09</td>\n",
       "      <td>0.02</td>\n",
       "      <td>?</td>\n",
       "      <td>?</td>\n",
       "      <td>?</td>\n",
       "      <td>?</td>\n",
       "      <td>0.00</td>\n",
       "      <td>?</td>\n",
       "      <td>0.03</td>\n",
       "    </tr>\n",
       "  </tbody>\n",
       "</table>\n",
       "<p>5 rows × 128 columns</p>\n",
       "</div>"
      ],
      "text/plain": [
       "   0   1      2                    3    4     5     6     7     8     9    \\\n",
       "0    8   ?      ?         Lakewoodcity    1  0.19  0.33  0.02  0.90  0.12   \n",
       "1   53   ?      ?          Tukwilacity    1  0.00  0.16  0.12  0.74  0.45   \n",
       "2   24   ?      ?         Aberdeentown    1  0.00  0.42  0.49  0.56  0.17   \n",
       "3   34   5  81440  Willingborotownship    1  0.04  0.77  1.00  0.08  0.12   \n",
       "4   42  95   6096    Bethlehemtownship    1  0.01  0.55  0.02  0.95  0.09   \n",
       "\n",
       "   ...   118   119   120   121   122  123  124   125   126   127  \n",
       "0  ...  0.12  0.26  0.20  0.06  0.04  0.9  0.5  0.32  0.14  0.20  \n",
       "1  ...  0.02  0.12  0.45     ?     ?    ?    ?  0.00     ?  0.67  \n",
       "2  ...  0.01  0.21  0.02     ?     ?    ?    ?  0.00     ?  0.43  \n",
       "3  ...  0.02  0.39  0.28     ?     ?    ?    ?  0.00     ?  0.12  \n",
       "4  ...  0.04  0.09  0.02     ?     ?    ?    ?  0.00     ?  0.03  \n",
       "\n",
       "[5 rows x 128 columns]"
      ]
     },
     "execution_count": 2,
     "metadata": {},
     "output_type": "execute_result"
    }
   ],
   "source": [
    "## AJS - this is the first time I have pulled data from the web like this. Pretty cool. As I ran into some issues with the \n",
    "##       import I worked through them one at a time. First off the header parameter was helpful to get the city value out of \n",
    "##       the header for column/feature 4 (\"called 3\"). The next item was using the separator parameter which it turns out I \n",
    "##       did not need. I understood that comma was the default but I tried using it with sep='\\s*,\\s*' to strip out blank spaces\n",
    "##       which was a phantom problem. The real problem was that I did not know how to use the replace command. I now know that I\n",
    "##       need to pass it to a df or use inplace=True. Finally I commented out the extra/unused pd.read_csv parameters (below)\n",
    "\n",
    "df = pd.read_csv(\"https://archive.ics.uci.edu/ml/machine-learning-databases/communities/communities.data\", header=None)\n",
    "#df = pd.read_csv(\"https://archive.ics.uci.edu/ml/machine-learning-databases/communities/communities.data\", sep='\\s*,\\s*', header=None,na_values=[\"NaN\"],encoding='latin-1',engine='python')\n",
    "\n",
    "df.head()\n",
    "\n"
   ]
  },
  {
   "cell_type": "markdown",
   "metadata": {},
   "source": [
    "### Data cleansing"
   ]
  },
  {
   "cell_type": "code",
   "execution_count": 3,
   "metadata": {
    "scrolled": true
   },
   "outputs": [
    {
     "data": {
      "text/html": [
       "<div>\n",
       "<style scoped>\n",
       "    .dataframe tbody tr th:only-of-type {\n",
       "        vertical-align: middle;\n",
       "    }\n",
       "\n",
       "    .dataframe tbody tr th {\n",
       "        vertical-align: top;\n",
       "    }\n",
       "\n",
       "    .dataframe thead th {\n",
       "        text-align: right;\n",
       "    }\n",
       "</style>\n",
       "<table border=\"1\" class=\"dataframe\">\n",
       "  <thead>\n",
       "    <tr style=\"text-align: right;\">\n",
       "      <th></th>\n",
       "      <th>0</th>\n",
       "      <th>1</th>\n",
       "      <th>2</th>\n",
       "      <th>3</th>\n",
       "      <th>4</th>\n",
       "      <th>5</th>\n",
       "      <th>6</th>\n",
       "      <th>7</th>\n",
       "      <th>8</th>\n",
       "      <th>9</th>\n",
       "      <th>...</th>\n",
       "      <th>118</th>\n",
       "      <th>119</th>\n",
       "      <th>120</th>\n",
       "      <th>121</th>\n",
       "      <th>122</th>\n",
       "      <th>123</th>\n",
       "      <th>124</th>\n",
       "      <th>125</th>\n",
       "      <th>126</th>\n",
       "      <th>127</th>\n",
       "    </tr>\n",
       "  </thead>\n",
       "  <tbody>\n",
       "    <tr>\n",
       "      <th>0</th>\n",
       "      <td>8</td>\n",
       "      <td>23</td>\n",
       "      <td>48090</td>\n",
       "      <td>Lakewoodcity</td>\n",
       "      <td>1</td>\n",
       "      <td>0.19</td>\n",
       "      <td>0.33</td>\n",
       "      <td>0.02</td>\n",
       "      <td>0.90</td>\n",
       "      <td>0.12</td>\n",
       "      <td>...</td>\n",
       "      <td>0.12</td>\n",
       "      <td>0.26</td>\n",
       "      <td>0.20</td>\n",
       "      <td>0.06</td>\n",
       "      <td>0.04</td>\n",
       "      <td>0.9</td>\n",
       "      <td>0.5</td>\n",
       "      <td>0.32</td>\n",
       "      <td>0.14</td>\n",
       "      <td>0.20</td>\n",
       "    </tr>\n",
       "    <tr>\n",
       "      <th>1</th>\n",
       "      <td>53</td>\n",
       "      <td>23</td>\n",
       "      <td>48090</td>\n",
       "      <td>Tukwilacity</td>\n",
       "      <td>1</td>\n",
       "      <td>0.00</td>\n",
       "      <td>0.16</td>\n",
       "      <td>0.12</td>\n",
       "      <td>0.74</td>\n",
       "      <td>0.45</td>\n",
       "      <td>...</td>\n",
       "      <td>0.02</td>\n",
       "      <td>0.12</td>\n",
       "      <td>0.45</td>\n",
       "      <td>0.08</td>\n",
       "      <td>0.03</td>\n",
       "      <td>0.75</td>\n",
       "      <td>0.5</td>\n",
       "      <td>0.00</td>\n",
       "      <td>0.15</td>\n",
       "      <td>0.67</td>\n",
       "    </tr>\n",
       "    <tr>\n",
       "      <th>2</th>\n",
       "      <td>24</td>\n",
       "      <td>23</td>\n",
       "      <td>48090</td>\n",
       "      <td>Aberdeentown</td>\n",
       "      <td>1</td>\n",
       "      <td>0.00</td>\n",
       "      <td>0.42</td>\n",
       "      <td>0.49</td>\n",
       "      <td>0.56</td>\n",
       "      <td>0.17</td>\n",
       "      <td>...</td>\n",
       "      <td>0.01</td>\n",
       "      <td>0.21</td>\n",
       "      <td>0.02</td>\n",
       "      <td>0.08</td>\n",
       "      <td>0.03</td>\n",
       "      <td>0.75</td>\n",
       "      <td>0.5</td>\n",
       "      <td>0.00</td>\n",
       "      <td>0.15</td>\n",
       "      <td>0.43</td>\n",
       "    </tr>\n",
       "    <tr>\n",
       "      <th>3</th>\n",
       "      <td>34</td>\n",
       "      <td>5</td>\n",
       "      <td>81440</td>\n",
       "      <td>Willingborotownship</td>\n",
       "      <td>1</td>\n",
       "      <td>0.04</td>\n",
       "      <td>0.77</td>\n",
       "      <td>1.00</td>\n",
       "      <td>0.08</td>\n",
       "      <td>0.12</td>\n",
       "      <td>...</td>\n",
       "      <td>0.02</td>\n",
       "      <td>0.39</td>\n",
       "      <td>0.28</td>\n",
       "      <td>0.08</td>\n",
       "      <td>0.03</td>\n",
       "      <td>0.75</td>\n",
       "      <td>0.5</td>\n",
       "      <td>0.00</td>\n",
       "      <td>0.15</td>\n",
       "      <td>0.12</td>\n",
       "    </tr>\n",
       "    <tr>\n",
       "      <th>4</th>\n",
       "      <td>42</td>\n",
       "      <td>95</td>\n",
       "      <td>6096</td>\n",
       "      <td>Bethlehemtownship</td>\n",
       "      <td>1</td>\n",
       "      <td>0.01</td>\n",
       "      <td>0.55</td>\n",
       "      <td>0.02</td>\n",
       "      <td>0.95</td>\n",
       "      <td>0.09</td>\n",
       "      <td>...</td>\n",
       "      <td>0.04</td>\n",
       "      <td>0.09</td>\n",
       "      <td>0.02</td>\n",
       "      <td>0.08</td>\n",
       "      <td>0.03</td>\n",
       "      <td>0.75</td>\n",
       "      <td>0.5</td>\n",
       "      <td>0.00</td>\n",
       "      <td>0.15</td>\n",
       "      <td>0.03</td>\n",
       "    </tr>\n",
       "  </tbody>\n",
       "</table>\n",
       "<p>5 rows × 128 columns</p>\n",
       "</div>"
      ],
      "text/plain": [
       "   0   1      2                    3    4     5     6     7     8     9    \\\n",
       "0    8  23  48090         Lakewoodcity    1  0.19  0.33  0.02  0.90  0.12   \n",
       "1   53  23  48090          Tukwilacity    1  0.00  0.16  0.12  0.74  0.45   \n",
       "2   24  23  48090         Aberdeentown    1  0.00  0.42  0.49  0.56  0.17   \n",
       "3   34   5  81440  Willingborotownship    1  0.04  0.77  1.00  0.08  0.12   \n",
       "4   42  95   6096    Bethlehemtownship    1  0.01  0.55  0.02  0.95  0.09   \n",
       "\n",
       "   ...   118   119   120   121   122   123  124   125   126   127  \n",
       "0  ...  0.12  0.26  0.20  0.06  0.04   0.9  0.5  0.32  0.14  0.20  \n",
       "1  ...  0.02  0.12  0.45  0.08  0.03  0.75  0.5  0.00  0.15  0.67  \n",
       "2  ...  0.01  0.21  0.02  0.08  0.03  0.75  0.5  0.00  0.15  0.43  \n",
       "3  ...  0.02  0.39  0.28  0.08  0.03  0.75  0.5  0.00  0.15  0.12  \n",
       "4  ...  0.04  0.09  0.02  0.08  0.03  0.75  0.5  0.00  0.15  0.03  \n",
       "\n",
       "[5 rows x 128 columns]"
      ]
     },
     "execution_count": 3,
     "metadata": {},
     "output_type": "execute_result"
    }
   ],
   "source": [
    "## AJS - as mentioned above this did not work as replace is not an 'inplace' function by default. See \n",
    "##       https://stackoverflow.com/questions/29247712/how-to-replace-a-value-in-pandas-with-nan for more info.\n",
    "##       given the limited time left to understand the data or even label the features, I just imputed the median for the \n",
    "##       gaps in the dataset. This is not ethical in a real world scenario but it will pass for this exercise.\n",
    "\n",
    "#df.replace('?', np.NaN)\n",
    "\n",
    "df = df.replace('?', np.NaN)\n",
    "df.fillna(df.median(),inplace=True)\n",
    "df.head()"
   ]
  },
  {
   "cell_type": "markdown",
   "metadata": {},
   "source": [
    "### Failed attempt to get feature names"
   ]
  },
  {
   "cell_type": "code",
   "execution_count": 4,
   "metadata": {},
   "outputs": [],
   "source": [
    "## AJS - there are 128 names that I don't have the time or skill now to import into the dataset. The @attribute prefix could \n",
    "##       be used in a loop once I level up my Python skill. Currently I am just in the 'break all lockpicks' skill level. :-)\n",
    "##       That is a RPG reference for fun.\n",
    "\n",
    "communities_names = 'https://archive.ics.uci.edu/ml/machine-learning-databases/communities/communities.names'\n",
    "\n",
    "## AJS - commenting the web call to clean up the output\n",
    "\n",
    "# for line in urlopen(communities_names):\n",
    "#     print(line.decode('utf-8'))"
   ]
  },
  {
   "cell_type": "markdown",
   "metadata": {},
   "source": [
    "### Set the crime target variable as y"
   ]
  },
  {
   "cell_type": "code",
   "execution_count": 5,
   "metadata": {},
   "outputs": [
    {
     "data": {
      "text/html": [
       "<div>\n",
       "<style scoped>\n",
       "    .dataframe tbody tr th:only-of-type {\n",
       "        vertical-align: middle;\n",
       "    }\n",
       "\n",
       "    .dataframe tbody tr th {\n",
       "        vertical-align: top;\n",
       "    }\n",
       "\n",
       "    .dataframe thead th {\n",
       "        text-align: right;\n",
       "    }\n",
       "</style>\n",
       "<table border=\"1\" class=\"dataframe\">\n",
       "  <thead>\n",
       "    <tr style=\"text-align: right;\">\n",
       "      <th></th>\n",
       "      <th>0</th>\n",
       "      <th>1</th>\n",
       "      <th>2</th>\n",
       "      <th>4</th>\n",
       "      <th>5</th>\n",
       "      <th>6</th>\n",
       "      <th>7</th>\n",
       "      <th>8</th>\n",
       "      <th>9</th>\n",
       "      <th>10</th>\n",
       "      <th>...</th>\n",
       "      <th>117</th>\n",
       "      <th>118</th>\n",
       "      <th>119</th>\n",
       "      <th>120</th>\n",
       "      <th>121</th>\n",
       "      <th>122</th>\n",
       "      <th>123</th>\n",
       "      <th>124</th>\n",
       "      <th>125</th>\n",
       "      <th>126</th>\n",
       "    </tr>\n",
       "  </thead>\n",
       "  <tbody>\n",
       "    <tr>\n",
       "      <th>0</th>\n",
       "      <td>8</td>\n",
       "      <td>23</td>\n",
       "      <td>48090</td>\n",
       "      <td>1</td>\n",
       "      <td>0.19</td>\n",
       "      <td>0.33</td>\n",
       "      <td>0.02</td>\n",
       "      <td>0.90</td>\n",
       "      <td>0.12</td>\n",
       "      <td>0.17</td>\n",
       "      <td>...</td>\n",
       "      <td>0.29</td>\n",
       "      <td>0.12</td>\n",
       "      <td>0.26</td>\n",
       "      <td>0.20</td>\n",
       "      <td>0.06</td>\n",
       "      <td>0.04</td>\n",
       "      <td>0.9</td>\n",
       "      <td>0.5</td>\n",
       "      <td>0.32</td>\n",
       "      <td>0.14</td>\n",
       "    </tr>\n",
       "    <tr>\n",
       "      <th>1</th>\n",
       "      <td>53</td>\n",
       "      <td>23</td>\n",
       "      <td>48090</td>\n",
       "      <td>1</td>\n",
       "      <td>0.00</td>\n",
       "      <td>0.16</td>\n",
       "      <td>0.12</td>\n",
       "      <td>0.74</td>\n",
       "      <td>0.45</td>\n",
       "      <td>0.07</td>\n",
       "      <td>...</td>\n",
       "      <td>0.26</td>\n",
       "      <td>0.02</td>\n",
       "      <td>0.12</td>\n",
       "      <td>0.45</td>\n",
       "      <td>0.08</td>\n",
       "      <td>0.03</td>\n",
       "      <td>0.75</td>\n",
       "      <td>0.5</td>\n",
       "      <td>0.00</td>\n",
       "      <td>0.15</td>\n",
       "    </tr>\n",
       "    <tr>\n",
       "      <th>2</th>\n",
       "      <td>24</td>\n",
       "      <td>23</td>\n",
       "      <td>48090</td>\n",
       "      <td>1</td>\n",
       "      <td>0.00</td>\n",
       "      <td>0.42</td>\n",
       "      <td>0.49</td>\n",
       "      <td>0.56</td>\n",
       "      <td>0.17</td>\n",
       "      <td>0.04</td>\n",
       "      <td>...</td>\n",
       "      <td>0.26</td>\n",
       "      <td>0.01</td>\n",
       "      <td>0.21</td>\n",
       "      <td>0.02</td>\n",
       "      <td>0.08</td>\n",
       "      <td>0.03</td>\n",
       "      <td>0.75</td>\n",
       "      <td>0.5</td>\n",
       "      <td>0.00</td>\n",
       "      <td>0.15</td>\n",
       "    </tr>\n",
       "    <tr>\n",
       "      <th>3</th>\n",
       "      <td>34</td>\n",
       "      <td>5</td>\n",
       "      <td>81440</td>\n",
       "      <td>1</td>\n",
       "      <td>0.04</td>\n",
       "      <td>0.77</td>\n",
       "      <td>1.00</td>\n",
       "      <td>0.08</td>\n",
       "      <td>0.12</td>\n",
       "      <td>0.10</td>\n",
       "      <td>...</td>\n",
       "      <td>0.26</td>\n",
       "      <td>0.02</td>\n",
       "      <td>0.39</td>\n",
       "      <td>0.28</td>\n",
       "      <td>0.08</td>\n",
       "      <td>0.03</td>\n",
       "      <td>0.75</td>\n",
       "      <td>0.5</td>\n",
       "      <td>0.00</td>\n",
       "      <td>0.15</td>\n",
       "    </tr>\n",
       "    <tr>\n",
       "      <th>4</th>\n",
       "      <td>42</td>\n",
       "      <td>95</td>\n",
       "      <td>6096</td>\n",
       "      <td>1</td>\n",
       "      <td>0.01</td>\n",
       "      <td>0.55</td>\n",
       "      <td>0.02</td>\n",
       "      <td>0.95</td>\n",
       "      <td>0.09</td>\n",
       "      <td>0.05</td>\n",
       "      <td>...</td>\n",
       "      <td>0.26</td>\n",
       "      <td>0.04</td>\n",
       "      <td>0.09</td>\n",
       "      <td>0.02</td>\n",
       "      <td>0.08</td>\n",
       "      <td>0.03</td>\n",
       "      <td>0.75</td>\n",
       "      <td>0.5</td>\n",
       "      <td>0.00</td>\n",
       "      <td>0.15</td>\n",
       "    </tr>\n",
       "  </tbody>\n",
       "</table>\n",
       "<p>5 rows × 126 columns</p>\n",
       "</div>"
      ],
      "text/plain": [
       "   0   1      2    4     5     6     7     8     9     10   ...   117   118  \\\n",
       "0    8  23  48090    1  0.19  0.33  0.02  0.90  0.12  0.17  ...  0.29  0.12   \n",
       "1   53  23  48090    1  0.00  0.16  0.12  0.74  0.45  0.07  ...  0.26  0.02   \n",
       "2   24  23  48090    1  0.00  0.42  0.49  0.56  0.17  0.04  ...  0.26  0.01   \n",
       "3   34   5  81440    1  0.04  0.77  1.00  0.08  0.12  0.10  ...  0.26  0.02   \n",
       "4   42  95   6096    1  0.01  0.55  0.02  0.95  0.09  0.05  ...  0.26  0.04   \n",
       "\n",
       "    119   120   121   122   123  124   125   126  \n",
       "0  0.26  0.20  0.06  0.04   0.9  0.5  0.32  0.14  \n",
       "1  0.12  0.45  0.08  0.03  0.75  0.5  0.00  0.15  \n",
       "2  0.21  0.02  0.08  0.03  0.75  0.5  0.00  0.15  \n",
       "3  0.39  0.28  0.08  0.03  0.75  0.5  0.00  0.15  \n",
       "4  0.09  0.02  0.08  0.03  0.75  0.5  0.00  0.15  \n",
       "\n",
       "[5 rows x 126 columns]"
      ]
     },
     "execution_count": 5,
     "metadata": {},
     "output_type": "execute_result"
    }
   ],
   "source": [
    "## AJS - I identified and isolated the target/outcome variable in a new dataframe 'y'. Then I removed it and the city\n",
    "##       feature from the feature set 'x'\n",
    "\n",
    "y = df.iloc[:,[127]]\n",
    "x = df.drop(columns={3,127})\n",
    "x.head()"
   ]
  },
  {
   "cell_type": "code",
   "execution_count": 6,
   "metadata": {},
   "outputs": [
    {
     "data": {
      "text/html": [
       "<div>\n",
       "<style scoped>\n",
       "    .dataframe tbody tr th:only-of-type {\n",
       "        vertical-align: middle;\n",
       "    }\n",
       "\n",
       "    .dataframe tbody tr th {\n",
       "        vertical-align: top;\n",
       "    }\n",
       "\n",
       "    .dataframe thead th {\n",
       "        text-align: right;\n",
       "    }\n",
       "</style>\n",
       "<table border=\"1\" class=\"dataframe\">\n",
       "  <thead>\n",
       "    <tr style=\"text-align: right;\">\n",
       "      <th></th>\n",
       "      <th>127</th>\n",
       "    </tr>\n",
       "  </thead>\n",
       "  <tbody>\n",
       "    <tr>\n",
       "      <th>0</th>\n",
       "      <td>0.20</td>\n",
       "    </tr>\n",
       "    <tr>\n",
       "      <th>1</th>\n",
       "      <td>0.67</td>\n",
       "    </tr>\n",
       "    <tr>\n",
       "      <th>2</th>\n",
       "      <td>0.43</td>\n",
       "    </tr>\n",
       "    <tr>\n",
       "      <th>3</th>\n",
       "      <td>0.12</td>\n",
       "    </tr>\n",
       "    <tr>\n",
       "      <th>4</th>\n",
       "      <td>0.03</td>\n",
       "    </tr>\n",
       "  </tbody>\n",
       "</table>\n",
       "</div>"
      ],
      "text/plain": [
       "    127\n",
       "0  0.20\n",
       "1  0.67\n",
       "2  0.43\n",
       "3  0.12\n",
       "4  0.03"
      ]
     },
     "execution_count": 6,
     "metadata": {},
     "output_type": "execute_result"
    }
   ],
   "source": [
    "#AJS - quickly confirming y appears correctly\n",
    "\n",
    "y.head()"
   ]
  },
  {
   "cell_type": "markdown",
   "metadata": {},
   "source": [
    "### SelectKBest feature review \n",
    "\n",
    "See documentation: https://scikit-learn.org/stable/modules/generated/sklearn.feature_selection.SelectKBest.html"
   ]
  },
  {
   "cell_type": "code",
   "execution_count": 7,
   "metadata": {},
   "outputs": [
    {
     "name": "stderr",
     "output_type": "stream",
     "text": [
      "C:\\Users\\schre\\anaconda3\\lib\\site-packages\\sklearn\\utils\\validation.py:72: DataConversionWarning: A column-vector y was passed when a 1d array was expected. Please change the shape of y to (n_samples, ), for example using ravel().\n",
      "  return f(**kwargs)\n"
     ]
    },
    {
     "data": {
      "image/png": "[encoded data removed]",
      "text/plain": [
       "<Figure size 1080x288 with 4 Axes>"
      ]
     },
     "metadata": {
      "needs_background": "light"
     },
     "output_type": "display_data"
    }
   ],
   "source": [
    "\n",
    "fs=SelectKBest(score_func=f_regression,k=4)\n",
    "X_new=fs.fit_transform(x,y)\n",
    "\n",
    "cols = fs.get_support(indices=True)\n",
    "features_df_new = x.iloc[:,cols]\n",
    "\n",
    "\n",
    "# Two subplots, unpack the axes array immediately\n",
    "fig, axes = plt.subplots(1,4)\n",
    "fig.set_size_inches(15,4)\n",
    "\n",
    "for i in range(4):\n",
    "    #axes[i].set_aspect('equal')\n",
    "    axes[i].set_title(features_df_new.columns[i])\n",
    "    axes[i].set_xlabel('Feature')\n",
    "    axes[i].set_ylabel('Y Axis') #new high score on worst y axis label :-)\n",
    "    plt.sca(axes[i])\n",
    "\n",
    "    \n",
    "    plt.scatter(X_new[:,i],y)\n"
   ]
  },
  {
   "cell_type": "markdown",
   "metadata": {},
   "source": [
    "### Create a train and test sample of 75/25"
   ]
  },
  {
   "cell_type": "code",
   "execution_count": 8,
   "metadata": {},
   "outputs": [],
   "source": [
    "## AJS - setting up the training and test set and setting the random state for repeatability\n",
    "\n",
    "X_train, X_test, y_train, y_test = train_test_split(x, y, test_size=0.25, random_state=33)"
   ]
  },
  {
   "cell_type": "code",
   "execution_count": 9,
   "metadata": {},
   "outputs": [
    {
     "data": {
      "text/plain": [
       "(1495, 126)"
      ]
     },
     "execution_count": 9,
     "metadata": {},
     "output_type": "execute_result"
    }
   ],
   "source": [
    "## AJS - x is showing correctly with 1994*.75 = 1495\n",
    "X_train.shape"
   ]
  },
  {
   "cell_type": "code",
   "execution_count": 10,
   "metadata": {},
   "outputs": [
    {
     "data": {
      "text/plain": [
       "(1495, 1)"
      ]
     },
     "execution_count": 10,
     "metadata": {},
     "output_type": "execute_result"
    }
   ],
   "source": [
    "y_train.shape"
   ]
  },
  {
   "cell_type": "code",
   "execution_count": 11,
   "metadata": {},
   "outputs": [
    {
     "name": "stdout",
     "output_type": "stream",
     "text": [
      "0      56.0\n",
      "4      10.0\n",
      "5       1.0\n",
      "6       1.0\n",
      "7       1.0\n",
      "       ... \n",
      "100     1.0\n",
      "118     1.0\n",
      "119     1.0\n",
      "120     1.0\n",
      "125     1.0\n",
      "Length: 101, dtype: float64 0      1.0\n",
      "4      1.0\n",
      "5      0.0\n",
      "6      0.0\n",
      "7      0.0\n",
      "      ... \n",
      "100    0.0\n",
      "118    0.0\n",
      "119    0.0\n",
      "120    0.0\n",
      "125    0.0\n",
      "Length: 101, dtype: float64 0      28.806689\n",
      "4       5.505686\n",
      "5       0.055472\n",
      "6       0.467184\n",
      "7       0.177806\n",
      "         ...    \n",
      "100     0.649612\n",
      "118     0.064696\n",
      "119     0.229278\n",
      "120     0.159565\n",
      "125     0.095625\n",
      "Length: 101, dtype: float64\n"
     ]
    }
   ],
   "source": [
    "print(np.max(X_train), np.min(X_train), np.mean(X_train))"
   ]
  },
  {
   "cell_type": "code",
   "execution_count": 12,
   "metadata": {},
   "outputs": [],
   "source": [
    "X_train = StandardScaler().fit_transform(X_train)\n",
    "X_test = StandardScaler().fit_transform(X_test)"
   ]
  },
  {
   "cell_type": "code",
   "execution_count": 13,
   "metadata": {},
   "outputs": [],
   "source": [
    "y_train = StandardScaler().fit_transform(y_train)\n",
    "y_test = StandardScaler().fit_transform(y_test)"
   ]
  },
  {
   "cell_type": "markdown",
   "metadata": {},
   "source": [
    "# Create in Scikit learn at least 4 of these GLMs:"
   ]
  },
  {
   "cell_type": "code",
   "execution_count": 14,
   "metadata": {},
   "outputs": [],
   "source": [
    "\n",
    "def train_and_evaluate(clf, X_train, y_train):\n",
    "    \n",
    "    clf.fit(X_train, y_train)\n",
    "    \n",
    "    print(\"Coefficient of determination on training set:\",clf.score(X_train, y_train))\n",
    "    \n",
    "    # create a k-fold croos validation iterator of k=5 folds\n",
    "    scores = cross_val_score(clf, X_train, y_train, cv=5)\n",
    "    print(\"Average coefficient of determination using 5-fold crossvalidation:\",np.mean(scores))"
   ]
  },
  {
   "cell_type": "code",
   "execution_count": 15,
   "metadata": {},
   "outputs": [
    {
     "name": "stdout",
     "output_type": "stream",
     "text": [
      "SGDRegressor(penalty=None, random_state=42, shuffle=False)\n",
      "Coefficient of determination on training set: 0.7000564089097576\n",
      "Average coefficient of determination using 5-fold crossvalidation: 0.6460841831133962\n",
      "[-0.05736248 -0.05583773 -0.007563   -0.03180422 -0.0408452   0.03195116\n",
      "  0.18002504 -0.06953991 -0.04467443  0.00680741  0.05068919 -0.12906635\n",
      " -0.01989028  0.01989003 -0.03209272  0.09098754  0.06504875 -0.08372248\n",
      "  0.02931446 -0.04400343  0.06066     0.01431771 -0.08345837  0.1024392\n",
      " -0.03148594 -0.13530118 -0.02049182 -0.02003953  0.03418364  0.02924311\n",
      "  0.02446404  0.00236084 -0.13189281 -0.03233528 -0.03183305  0.02267999\n",
      " -0.02970539  0.0873933  -0.05680811 -0.01333479  0.04802161  0.03145293\n",
      "  0.09589992  0.06686018 -0.07512683 -0.00317656  0.00196828 -0.09517338\n",
      " -0.13948346 -0.03143779 -0.00116078 -0.0002674  -0.09719711 -0.05523598\n",
      "  0.17481032 -0.02162516  0.0008593   0.00558979 -0.05234095  0.06019039\n",
      " -0.00092028  0.00394202  0.04822475  0.03896531 -0.02531181 -0.10514225\n",
      " -0.07035838 -0.04141648  0.08398324 -0.00510881  0.01183366 -0.07807073\n",
      "  0.12212068  0.07601018  0.03063222  0.04812788 -0.059023   -0.0142228\n",
      "  0.07422892 -0.05309007 -0.00702475  0.04987208 -0.03812549 -0.03660497\n",
      "  0.00544291 -0.0017396  -0.17801214 -0.00279469  0.03452106  0.0777427\n",
      "  0.06526716 -0.03584591 -0.07144162  0.04104885  0.04833     0.09360994\n",
      " -0.01290896  0.01397057  0.01649802  0.00922219 -0.04566571  0.0153379\n",
      " -0.04315422  0.02143054 -0.03183095 -0.01610311  0.06587615  0.01662126\n",
      " -0.04686333  0.04127833  0.06573357  0.10488377  0.03416386 -0.02932418\n",
      "  0.02919912  0.02035105  0.0131032   0.07109139  0.01147151 -0.03375171\n",
      "  0.01151947  0.08649918  0.0014062   0.0263964   0.0023226  -0.04640618]\n"
     ]
    }
   ],
   "source": [
    "\n",
    "clf_sgd = linear_model.SGDRegressor(loss='squared_loss', penalty=None,  random_state=42, shuffle=False)\n",
    "print(clf_sgd)\n",
    "train_and_evaluate(clf_sgd,X_train,y_train.ravel())\n",
    "print(clf_sgd.coef_)"
   ]
  },
  {
   "cell_type": "code",
   "execution_count": 16,
   "metadata": {},
   "outputs": [
    {
     "name": "stdout",
     "output_type": "stream",
     "text": [
      "Coefficient of determination on training set: 0.7085678715668997\n",
      "Average coefficient of determination using 5-fold crossvalidation: 0.6519058718932225\n"
     ]
    }
   ],
   "source": [
    "clf_sgd1 = linear_model.SGDRegressor(loss='squared_loss', penalty='l2',  random_state=42)\n",
    "train_and_evaluate(clf_sgd1,X_train,y_train.ravel())"
   ]
  },
  {
   "cell_type": "code",
   "execution_count": 17,
   "metadata": {},
   "outputs": [
    {
     "name": "stdout",
     "output_type": "stream",
     "text": [
      "Coefficient of determination on training set: 0.6925553604127276\n",
      "Average coefficient of determination using 5-fold crossvalidation: 0.6520175983148647\n"
     ]
    }
   ],
   "source": [
    "clf_sgd2 = linear_model.SGDRegressor(loss='squared_loss', penalty='l1',  random_state=42)\n",
    "train_and_evaluate(clf_sgd2,X_train,y_train.ravel())"
   ]
  },
  {
   "cell_type": "code",
   "execution_count": 18,
   "metadata": {},
   "outputs": [
    {
     "name": "stdout",
     "output_type": "stream",
     "text": [
      "Coefficient of determination on training set: 0.6907952359568902\n",
      "Average coefficient of determination using 5-fold crossvalidation: 0.6519228466181277\n"
     ]
    }
   ],
   "source": [
    "clf_sgd3 = linear_model.SGDRegressor(loss='squared_loss', penalty='elasticnet',  random_state=42)\n",
    "train_and_evaluate(clf_sgd3,X_train,y_train.ravel())"
   ]
  },
  {
   "cell_type": "markdown",
   "metadata": {},
   "source": [
    "# Ridge Regression - Model 1 \n"
   ]
  },
  {
   "cell_type": "code",
   "execution_count": 19,
   "metadata": {},
   "outputs": [
    {
     "name": "stdout",
     "output_type": "stream",
     "text": [
      "Coefficient of determination on training set: 0.7241484444571848\n",
      "Average coefficient of determination using 5-fold crossvalidation: 0.6519274687668923\n"
     ]
    }
   ],
   "source": [
    "clf_ridge = linear_model.Ridge()\n",
    "train_and_evaluate(clf_ridge,X_train,y_train)\n",
    "\n"
   ]
  },
  {
   "cell_type": "code",
   "execution_count": 20,
   "metadata": {},
   "outputs": [
    {
     "name": "stdout",
     "output_type": "stream",
     "text": [
      "RR Model 1\n",
      "\n",
      "Cross Validation Score for each fold\n",
      "[0.6384721  0.5942483  0.70045314 0.67482979 0.65163401]\n",
      "\n",
      "Mean CV Score 0.6519274687668923\n"
     ]
    }
   ],
   "source": [
    "## AJS - I had some fun with the cross validation outputs to make it clearer what they were saying, and added them for each model.\n",
    "\n",
    "scores = cross_val_score(clf_ridge,X_train,y_train, cv=5)\n",
    "\n",
    "print(\"RR Model 1\")\n",
    "print(\"\")\n",
    "print(\"Cross Validation Score for each fold\")\n",
    "print(scores)\n",
    "print(\"\")\n",
    "print(\"Mean CV Score\", scores.mean())  "
   ]
  },
  {
   "cell_type": "markdown",
   "metadata": {},
   "source": [
    "# Ridge Regression - Model 2"
   ]
  },
  {
   "cell_type": "code",
   "execution_count": 21,
   "metadata": {},
   "outputs": [
    {
     "name": "stdout",
     "output_type": "stream",
     "text": [
      "Ridge(alpha=0.1)\n",
      "0.27556662876262206\n",
      "0.724433371237378\n"
     ]
    }
   ],
   "source": [
    "# Ridge Regression\n",
    "import numpy as np\n",
    "#from sklearn import datasets\n",
    "from sklearn.linear_model import Ridge\n",
    "# load the diabetes datasets\n",
    "#dataset = datasets.load_diabetes()\n",
    "# fit a ridge regression model to the data\n",
    "model = Ridge(alpha=0.1)\n",
    "model.fit(X_train, y_train)\n",
    "print(model)\n",
    "# make predictions\n",
    "expected = y_train\n",
    "predicted = model.predict(X_train)\n",
    "# summarize the fit of the model\n",
    "mse = np.mean((predicted-expected)**2)\n",
    "print(mse)\n",
    "print(model.score(X_train, y_train))"
   ]
  },
  {
   "cell_type": "code",
   "execution_count": 22,
   "metadata": {},
   "outputs": [
    {
     "name": "stdout",
     "output_type": "stream",
     "text": [
      "Ridge(alpha=0.1)\n",
      "\n",
      "Cross Validation Score for each fold\n",
      "[0.63102936 0.59302712 0.69842648 0.67240507 0.64800664]\n",
      "\n",
      "Mean CV Score 0.6485789330997935\n"
     ]
    }
   ],
   "source": [
    "scores = cross_val_score(model,X_train,y_train, cv=5)\n",
    "print(model)\n",
    "print(\"\")\n",
    "print(\"Cross Validation Score for each fold\")\n",
    "print(scores)\n",
    "print(\"\")\n",
    "print(\"Mean CV Score\", scores.mean())  "
   ]
  },
  {
   "cell_type": "markdown",
   "metadata": {},
   "source": [
    "# Lasso Regression - Model 3"
   ]
  },
  {
   "cell_type": "code",
   "execution_count": 23,
   "metadata": {},
   "outputs": [
    {
     "name": "stdout",
     "output_type": "stream",
     "text": [
      "Lasso(alpha=0.1)\n",
      "1.4670042826607979\n",
      "0.6320599380817272\n"
     ]
    }
   ],
   "source": [
    "# Lasso Regression\n",
    "# fit a LASSO model to the data\n",
    "from sklearn.linear_model import Lasso\n",
    "model = Lasso(alpha=0.1)\n",
    "model.fit(X_train, y_train)\n",
    "print(model)\n",
    "# make predictions\n",
    "expected = y_train\n",
    "predicted = model.predict(X_train)\n",
    "# summarize the fit of the model\n",
    "mse = np.mean((predicted-expected)**2)\n",
    "print(mse)\n",
    "print(model.score(X_train, y_train))"
   ]
  },
  {
   "cell_type": "code",
   "execution_count": 24,
   "metadata": {},
   "outputs": [
    {
     "name": "stdout",
     "output_type": "stream",
     "text": [
      "Lasso(alpha=0.1)\n",
      "\n",
      "Cross Validation Score for each fold\n",
      "[0.59665825 0.5873928  0.66967909 0.64721832 0.61513323]\n",
      "\n",
      "Mean CV Score 0.6232163360760017\n"
     ]
    }
   ],
   "source": [
    "scores = cross_val_score(model,X_train,y_train, cv=5)\n",
    "print(model)\n",
    "print(\"\")\n",
    "print(\"Cross Validation Score for each fold\")\n",
    "print(scores)\n",
    "print(\"\")\n",
    "print(\"Mean CV Score\", scores.mean())  "
   ]
  },
  {
   "cell_type": "markdown",
   "metadata": {},
   "source": [
    "# ElasticNet Regression - Model 4"
   ]
  },
  {
   "cell_type": "code",
   "execution_count": 25,
   "metadata": {},
   "outputs": [
    {
     "name": "stdout",
     "output_type": "stream",
     "text": [
      "ElasticNet(alpha=0.1)\n",
      "1.5463589531310817\n",
      "0.6617533290756865\n"
     ]
    }
   ],
   "source": [
    "# ElasticNet Regression\n",
    "# fit a model to the data\n",
    "from sklearn.linear_model import ElasticNet\n",
    "model = ElasticNet(alpha=0.1)\n",
    "model.fit(X_train, y_train)\n",
    "print(model)\n",
    "# make predictions\n",
    "expected = y_train\n",
    "predicted = model.predict(X_train)\n",
    "# summarize the fit of the model\n",
    "mse = np.mean((predicted-expected)**2)\n",
    "print(mse)\n",
    "print(model.score(X_train, y_train))"
   ]
  },
  {
   "cell_type": "code",
   "execution_count": 26,
   "metadata": {
    "scrolled": true
   },
   "outputs": [
    {
     "name": "stdout",
     "output_type": "stream",
     "text": [
      "ElasticNet(alpha=0.1)\n",
      "\n",
      "Cross Validation Score for each fold\n",
      "[0.62467899 0.60108409 0.69904849 0.66925026 0.64656386]\n",
      "\n",
      "Mean CV Score 0.6481251375411556\n"
     ]
    }
   ],
   "source": [
    "scores = cross_val_score(model,X_train,y_train, cv=5)\n",
    "print(model)\n",
    "print(\"\")\n",
    "print(\"Cross Validation Score for each fold\")\n",
    "print(scores)\n",
    "print(\"\")\n",
    "print(\"Mean CV Score\", scores.mean())   "
   ]
  },
  {
   "cell_type": "markdown",
   "metadata": {},
   "source": [
    "# Model Performance Summary"
   ]
  },
  {
   "cell_type": "code",
   "execution_count": 27,
   "metadata": {},
   "outputs": [],
   "source": [
    "## AJS - I found that the Ridge Regression Model 2 performed better than Lasso or ElasticNet on this dataset. The Mean Squared \n",
    "##      Error was markedly lower in the model 2 (.276) compared to the other two models (1.467 & 1.546 respectively). "
   ]
  },
  {
   "cell_type": "markdown",
   "metadata": {},
   "source": [
    "## SVR\n",
    "In the docs, sklearn does not recommend using with \"more than a couple of 10000 samples\". They recommend using LinearSVR or SGDRegressor instead.\n",
    "\n",
    "https://scikit-learn.org/stable/modules/generated/sklearn.svm.SVR.html"
   ]
  },
  {
   "cell_type": "code",
   "execution_count": 28,
   "metadata": {
    "scrolled": true
   },
   "outputs": [
    {
     "name": "stdout",
     "output_type": "stream",
     "text": [
      "Wall time: 3min 2s\n"
     ]
    },
    {
     "data": {
      "text/plain": [
       "GridSearchCV(estimator=SVR(),\n",
       "             param_grid={'C': [1, 5, 10], 'kernel': ('linear', 'poly', 'rbf')})"
      ]
     },
     "execution_count": 28,
     "metadata": {},
     "output_type": "execute_result"
    }
   ],
   "source": [
    "\n",
    "%%time\n",
    "#This takes a really long time! \n",
    "clf_svr_grid = GridSearchCV(estimator=svm.SVR(),\n",
    "             param_grid={'C': [1, 5, 10], 'kernel': ('linear', 'poly', 'rbf')})\n",
    "\n",
    "clf_svr_grid.fit(X_train,y_train.ravel())"
   ]
  },
  {
   "cell_type": "code",
   "execution_count": 29,
   "metadata": {},
   "outputs": [
    {
     "data": {
      "text/plain": [
       "{'mean_fit_time': array([ 2.0144352 ,  0.11470437,  0.12551394, 10.55510254,  0.13632236,\n",
       "         0.15093699, 22.24632115,  0.15053706,  0.16998711]),\n",
       " 'std_fit_time': array([1.66234942e-01, 1.62619250e-03, 2.06096832e-03, 1.57811492e+00,\n",
       "        1.94017335e-03, 2.31721162e-03, 4.66479210e+00, 1.35745039e-03,\n",
       "        4.35695990e-03]),\n",
       " 'mean_score_time': array([0.0192174 , 0.02081895, 0.02482266, 0.01945643, 0.02121897,\n",
       "        0.0254231 , 0.01901708, 0.02121921, 0.02542472]),\n",
       " 'std_score_time': array([4.00352506e-04, 4.00424014e-04, 4.00280992e-04, 4.64383613e-04,\n",
       "        4.00448300e-04, 4.90427038e-04, 3.87384339e-07, 4.00209612e-04,\n",
       "        4.88921743e-04]),\n",
       " 'param_C': masked_array(data=[1, 1, 1, 5, 5, 5, 10, 10, 10],\n",
       "              mask=[False, False, False, False, False, False, False, False,\n",
       "                    False],\n",
       "        fill_value='?',\n",
       "             dtype=object),\n",
       " 'param_kernel': masked_array(data=['linear', 'poly', 'rbf', 'linear', 'poly', 'rbf',\n",
       "                    'linear', 'poly', 'rbf'],\n",
       "              mask=[False, False, False, False, False, False, False, False,\n",
       "                    False],\n",
       "        fill_value='?',\n",
       "             dtype=object),\n",
       " 'params': [{'C': 1, 'kernel': 'linear'},\n",
       "  {'C': 1, 'kernel': 'poly'},\n",
       "  {'C': 1, 'kernel': 'rbf'},\n",
       "  {'C': 5, 'kernel': 'linear'},\n",
       "  {'C': 5, 'kernel': 'poly'},\n",
       "  {'C': 5, 'kernel': 'rbf'},\n",
       "  {'C': 10, 'kernel': 'linear'},\n",
       "  {'C': 10, 'kernel': 'poly'},\n",
       "  {'C': 10, 'kernel': 'rbf'}],\n",
       " 'split0_test_score': array([0.62620797, 0.45867643, 0.63033698, 0.6275006 , 0.36042752,\n",
       "        0.59408732, 0.62755426, 0.26773568, 0.58610288]),\n",
       " 'split1_test_score': array([0.56438358, 0.25202914, 0.57745902, 0.56026364, 0.15344577,\n",
       "        0.5679159 , 0.55887515, 0.07687807, 0.55263454]),\n",
       " 'split2_test_score': array([0.70082796, 0.18190824, 0.6544465 , 0.70004887, 0.15027055,\n",
       "        0.62867529, 0.70020652, 0.02829872, 0.60788887]),\n",
       " 'split3_test_score': array([0.66765171, 0.54394639, 0.68045622, 0.66367691, 0.55940616,\n",
       "        0.65523946, 0.66330495, 0.48703996, 0.62758707]),\n",
       " 'split4_test_score': array([ 0.65183335, -0.03279517,  0.6169385 ,  0.6509003 ,  0.28165747,\n",
       "         0.63001585,  0.65103535,  0.30503826,  0.62300231]),\n",
       " 'mean_test_score': array([0.64218091, 0.28075301, 0.63192744, 0.64047807, 0.30104149,\n",
       "        0.61518676, 0.64019525, 0.23299814, 0.59944314]),\n",
       " 'std_test_score': array([0.04580167, 0.20485864, 0.03480275, 0.04647205, 0.1517703 ,\n",
       "        0.03061301, 0.04695886, 0.1656557 , 0.02752255]),\n",
       " 'rank_test_score': array([1, 8, 4, 2, 7, 5, 3, 9, 6])}"
      ]
     },
     "execution_count": 29,
     "metadata": {},
     "output_type": "execute_result"
    }
   ],
   "source": [
    "clf_svr_grid.cv_results_"
   ]
  },
  {
   "cell_type": "code",
   "execution_count": 30,
   "metadata": {},
   "outputs": [
    {
     "data": {
      "text/plain": [
       "{'C': 1, 'kernel': 'linear'}"
      ]
     },
     "execution_count": 30,
     "metadata": {},
     "output_type": "execute_result"
    }
   ],
   "source": [
    "clf_svr_grid.best_params_"
   ]
  },
  {
   "cell_type": "code",
   "execution_count": 31,
   "metadata": {},
   "outputs": [
    {
     "name": "stdout",
     "output_type": "stream",
     "text": [
      "Coefficient of determination on training set: 0.9601112162997233\n",
      "Average coefficient of determination using 5-fold crossvalidation: 0.5994431355318272\n"
     ]
    }
   ],
   "source": [
    "clf_svr_best = svm.SVR(kernel='rbf', C=10)\n",
    "train_and_evaluate(clf_svr_best, X_train,y_train.ravel())"
   ]
  },
  {
   "cell_type": "code",
   "execution_count": 32,
   "metadata": {},
   "outputs": [
    {
     "name": "stdout",
     "output_type": "stream",
     "text": [
      "Coefficient of determination on training set: 0.7277667141718954\n",
      "Average coefficient of determination using 5-fold crossvalidation: 0.41668395322574014\n"
     ]
    }
   ],
   "source": [
    "clf_svr_poly2= svm.SVR(kernel='poly',degree=2)\n",
    "train_and_evaluate(clf_svr_poly2,X_train,y_train.ravel())"
   ]
  }
 ],
 "metadata": {
  "kernelspec": {
   "display_name": "Python 3",
   "language": "python",
   "name": "python3"
  },
  "language_info": {
   "codemirror_mode": {
    "name": "ipython",
    "version": 3
   },
   "file_extension": ".py",
   "mimetype": "text/x-python",
   "name": "python",
   "nbconvert_exporter": "python",
   "pygments_lexer": "ipython3",
   "version": "3.8.5"
  }
 },
 "nbformat": 4,
 "nbformat_minor": 4
}
