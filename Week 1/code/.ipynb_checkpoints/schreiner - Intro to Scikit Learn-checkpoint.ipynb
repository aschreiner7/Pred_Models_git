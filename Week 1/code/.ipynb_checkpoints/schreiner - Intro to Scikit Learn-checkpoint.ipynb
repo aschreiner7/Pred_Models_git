{
 "cells": [
  {
   "cell_type": "markdown",
   "metadata": {},
   "source": [
    "# Introduction to Scikit Learn using a Decision Tree"
   ]
  },
  {
   "cell_type": "markdown",
   "metadata": {},
   "source": [
    "There are many ways to build and apply data mining modules in Scikit learn. You will see lots of examples. Some are more efficient that others. This this how I build a basic data mining project (it may or may not be efficient). Scikit learn has great documentation via http://scikit-learn.org/stable/index.html. Below is a combination of Numpy, Scikit learn, Matplotlib and Pandas scripts. These 4 are the primary tools of the datamining in Python. "
   ]
  },
  {
   "cell_type": "markdown",
   "metadata": {},
   "source": [
    "# Import standard packages for Machine Learning"
   ]
  },
  {
   "cell_type": "code",
   "execution_count": 29,
   "metadata": {},
   "outputs": [],
   "source": [
    "\n",
    "#Add packages\n",
    "#These are my standard packages I load for almost every project\n",
    "%matplotlib inline \n",
    "import numpy as np\n",
    "import matplotlib.pyplot as plt\n",
    "import pandas as pd\n",
    "#From Scikit Learn\n",
    "from sklearn import preprocessing \n",
    "from sklearn.model_selection  import train_test_split, cross_val_score, KFold\n",
    "from sklearn.model_selection import GridSearchCV\n",
    "from sklearn.metrics import accuracy_score, precision_score, recall_score, f1_score\n",
    "from sklearn.metrics import roc_curve, auc, confusion_matrix, classification_report, ConfusionMatrixDisplay\n",
    "from sklearn import tree \n",
    "from sklearn.decomposition import PCA\n",
    "from sklearn.linear_model import LogisticRegression\n",
    "#Notice I did not load my Datamining packages yet (ie decision tree). I will do that as I use them."
   ]
  },
  {
   "cell_type": "markdown",
   "metadata": {},
   "source": [
    "# Check current directory"
   ]
  },
  {
   "cell_type": "code",
   "execution_count": 2,
   "metadata": {},
   "outputs": [
    {
     "data": {
      "text/plain": [
       "'C:\\\\Users\\\\schre\\\\Documents\\\\GitHub\\\\Pred_Models_git\\\\Week 1\\\\code'"
      ]
     },
     "execution_count": 2,
     "metadata": {},
     "output_type": "execute_result"
    }
   ],
   "source": [
    "%pwd"
   ]
  },
  {
   "cell_type": "markdown",
   "metadata": {},
   "source": [
    "Change Directory to where my project is located, if needed using\n",
    "cd 'directory path'"
   ]
  },
  {
   "cell_type": "markdown",
   "metadata": {},
   "source": [
    "# Read in a CSV file. Print basic information on file"
   ]
  },
  {
   "cell_type": "code",
   "execution_count": 3,
   "metadata": {},
   "outputs": [
    {
     "name": "stdout",
     "output_type": "stream",
     "text": [
      "Data type object\n",
      "Shape of Data (600, 12)\n",
      "Colums Names Index(['id', 'age', 'income', 'children', 'gender', 'region', 'married', 'car',\n",
      "       'savings_acct', 'current_acct', 'mortgage', 'pep'],\n",
      "      dtype='object')\n"
     ]
    },
    {
     "data": {
      "text/html": [
       "<div>\n",
       "<style scoped>\n",
       "    .dataframe tbody tr th:only-of-type {\n",
       "        vertical-align: middle;\n",
       "    }\n",
       "\n",
       "    .dataframe tbody tr th {\n",
       "        vertical-align: top;\n",
       "    }\n",
       "\n",
       "    .dataframe thead th {\n",
       "        text-align: right;\n",
       "    }\n",
       "</style>\n",
       "<table border=\"1\" class=\"dataframe\">\n",
       "  <thead>\n",
       "    <tr style=\"text-align: right;\">\n",
       "      <th></th>\n",
       "      <th>id</th>\n",
       "      <th>age</th>\n",
       "      <th>income</th>\n",
       "      <th>children</th>\n",
       "      <th>gender</th>\n",
       "      <th>region</th>\n",
       "      <th>married</th>\n",
       "      <th>car</th>\n",
       "      <th>savings_acct</th>\n",
       "      <th>current_acct</th>\n",
       "      <th>mortgage</th>\n",
       "      <th>pep</th>\n",
       "    </tr>\n",
       "  </thead>\n",
       "  <tbody>\n",
       "    <tr>\n",
       "      <th>0</th>\n",
       "      <td>ID12101</td>\n",
       "      <td>48</td>\n",
       "      <td>17546.00</td>\n",
       "      <td>1</td>\n",
       "      <td>FEMALE</td>\n",
       "      <td>INNER_CITY</td>\n",
       "      <td>NO</td>\n",
       "      <td>NO</td>\n",
       "      <td>NO</td>\n",
       "      <td>NO</td>\n",
       "      <td>NO</td>\n",
       "      <td>YES</td>\n",
       "    </tr>\n",
       "    <tr>\n",
       "      <th>1</th>\n",
       "      <td>ID12102</td>\n",
       "      <td>40</td>\n",
       "      <td>30085.10</td>\n",
       "      <td>3</td>\n",
       "      <td>MALE</td>\n",
       "      <td>TOWN</td>\n",
       "      <td>YES</td>\n",
       "      <td>YES</td>\n",
       "      <td>NO</td>\n",
       "      <td>YES</td>\n",
       "      <td>YES</td>\n",
       "      <td>NO</td>\n",
       "    </tr>\n",
       "    <tr>\n",
       "      <th>2</th>\n",
       "      <td>ID12103</td>\n",
       "      <td>51</td>\n",
       "      <td>16575.40</td>\n",
       "      <td>0</td>\n",
       "      <td>FEMALE</td>\n",
       "      <td>INNER_CITY</td>\n",
       "      <td>YES</td>\n",
       "      <td>YES</td>\n",
       "      <td>YES</td>\n",
       "      <td>YES</td>\n",
       "      <td>NO</td>\n",
       "      <td>NO</td>\n",
       "    </tr>\n",
       "    <tr>\n",
       "      <th>3</th>\n",
       "      <td>ID12104</td>\n",
       "      <td>23</td>\n",
       "      <td>20375.40</td>\n",
       "      <td>3</td>\n",
       "      <td>FEMALE</td>\n",
       "      <td>TOWN</td>\n",
       "      <td>YES</td>\n",
       "      <td>NO</td>\n",
       "      <td>NO</td>\n",
       "      <td>YES</td>\n",
       "      <td>NO</td>\n",
       "      <td>NO</td>\n",
       "    </tr>\n",
       "    <tr>\n",
       "      <th>4</th>\n",
       "      <td>ID12105</td>\n",
       "      <td>57</td>\n",
       "      <td>50576.30</td>\n",
       "      <td>0</td>\n",
       "      <td>FEMALE</td>\n",
       "      <td>RURAL</td>\n",
       "      <td>YES</td>\n",
       "      <td>NO</td>\n",
       "      <td>YES</td>\n",
       "      <td>NO</td>\n",
       "      <td>NO</td>\n",
       "      <td>NO</td>\n",
       "    </tr>\n",
       "    <tr>\n",
       "      <th>5</th>\n",
       "      <td>ID12106</td>\n",
       "      <td>57</td>\n",
       "      <td>37869.60</td>\n",
       "      <td>2</td>\n",
       "      <td>FEMALE</td>\n",
       "      <td>TOWN</td>\n",
       "      <td>YES</td>\n",
       "      <td>NO</td>\n",
       "      <td>YES</td>\n",
       "      <td>YES</td>\n",
       "      <td>NO</td>\n",
       "      <td>YES</td>\n",
       "    </tr>\n",
       "    <tr>\n",
       "      <th>6</th>\n",
       "      <td>ID12107</td>\n",
       "      <td>22</td>\n",
       "      <td>8877.07</td>\n",
       "      <td>0</td>\n",
       "      <td>MALE</td>\n",
       "      <td>RURAL</td>\n",
       "      <td>NO</td>\n",
       "      <td>NO</td>\n",
       "      <td>NO</td>\n",
       "      <td>YES</td>\n",
       "      <td>NO</td>\n",
       "      <td>YES</td>\n",
       "    </tr>\n",
       "    <tr>\n",
       "      <th>7</th>\n",
       "      <td>ID12108</td>\n",
       "      <td>58</td>\n",
       "      <td>24946.60</td>\n",
       "      <td>0</td>\n",
       "      <td>MALE</td>\n",
       "      <td>TOWN</td>\n",
       "      <td>YES</td>\n",
       "      <td>YES</td>\n",
       "      <td>YES</td>\n",
       "      <td>YES</td>\n",
       "      <td>NO</td>\n",
       "      <td>NO</td>\n",
       "    </tr>\n",
       "    <tr>\n",
       "      <th>8</th>\n",
       "      <td>ID12109</td>\n",
       "      <td>37</td>\n",
       "      <td>25304.30</td>\n",
       "      <td>2</td>\n",
       "      <td>FEMALE</td>\n",
       "      <td>SUBURBAN</td>\n",
       "      <td>YES</td>\n",
       "      <td>YES</td>\n",
       "      <td>NO</td>\n",
       "      <td>NO</td>\n",
       "      <td>NO</td>\n",
       "      <td>NO</td>\n",
       "    </tr>\n",
       "    <tr>\n",
       "      <th>9</th>\n",
       "      <td>ID12110</td>\n",
       "      <td>54</td>\n",
       "      <td>24212.10</td>\n",
       "      <td>2</td>\n",
       "      <td>MALE</td>\n",
       "      <td>TOWN</td>\n",
       "      <td>YES</td>\n",
       "      <td>YES</td>\n",
       "      <td>YES</td>\n",
       "      <td>YES</td>\n",
       "      <td>NO</td>\n",
       "      <td>NO</td>\n",
       "    </tr>\n",
       "  </tbody>\n",
       "</table>\n",
       "</div>"
      ],
      "text/plain": [
       "        id  age    income  children  gender      region married  car  \\\n",
       "0  ID12101   48  17546.00         1  FEMALE  INNER_CITY      NO   NO   \n",
       "1  ID12102   40  30085.10         3    MALE        TOWN     YES  YES   \n",
       "2  ID12103   51  16575.40         0  FEMALE  INNER_CITY     YES  YES   \n",
       "3  ID12104   23  20375.40         3  FEMALE        TOWN     YES   NO   \n",
       "4  ID12105   57  50576.30         0  FEMALE       RURAL     YES   NO   \n",
       "5  ID12106   57  37869.60         2  FEMALE        TOWN     YES   NO   \n",
       "6  ID12107   22   8877.07         0    MALE       RURAL      NO   NO   \n",
       "7  ID12108   58  24946.60         0    MALE        TOWN     YES  YES   \n",
       "8  ID12109   37  25304.30         2  FEMALE    SUBURBAN     YES  YES   \n",
       "9  ID12110   54  24212.10         2    MALE        TOWN     YES  YES   \n",
       "\n",
       "  savings_acct current_acct mortgage  pep  \n",
       "0           NO           NO       NO  YES  \n",
       "1           NO          YES      YES   NO  \n",
       "2          YES          YES       NO   NO  \n",
       "3           NO          YES       NO   NO  \n",
       "4          YES           NO       NO   NO  \n",
       "5          YES          YES       NO  YES  \n",
       "6           NO          YES       NO  YES  \n",
       "7          YES          YES       NO   NO  \n",
       "8           NO           NO       NO   NO  \n",
       "9          YES          YES       NO   NO  "
      ]
     },
     "execution_count": 3,
     "metadata": {},
     "output_type": "execute_result"
    }
   ],
   "source": [
    "bank = pd.read_csv(\"../data/bank_data.csv\", sep=\",\")\n",
    "#print type of object for target\n",
    "print(\"Data type\", bank.savings_acct.dtype)\n",
    "#Dimensions of dataset\n",
    "print(\"Shape of Data\", bank.shape)\n",
    "#Colum names\n",
    "print(\"Colums Names\", bank.columns)\n",
    "#See top few rows of dataset\n",
    "bank.head(10)"
   ]
  },
  {
   "cell_type": "markdown",
   "metadata": {},
   "source": [
    "# Identify Target Variable and Move to Target to Column 0 (optional)"
   ]
  },
  {
   "cell_type": "code",
   "execution_count": 4,
   "metadata": {},
   "outputs": [
    {
     "data": {
      "text/html": [
       "<div>\n",
       "<style scoped>\n",
       "    .dataframe tbody tr th:only-of-type {\n",
       "        vertical-align: middle;\n",
       "    }\n",
       "\n",
       "    .dataframe tbody tr th {\n",
       "        vertical-align: top;\n",
       "    }\n",
       "\n",
       "    .dataframe thead th {\n",
       "        text-align: right;\n",
       "    }\n",
       "</style>\n",
       "<table border=\"1\" class=\"dataframe\">\n",
       "  <thead>\n",
       "    <tr style=\"text-align: right;\">\n",
       "      <th></th>\n",
       "      <th>savings_acct</th>\n",
       "      <th>id</th>\n",
       "      <th>age</th>\n",
       "      <th>income</th>\n",
       "      <th>children</th>\n",
       "      <th>gender</th>\n",
       "      <th>region</th>\n",
       "      <th>married</th>\n",
       "      <th>car</th>\n",
       "      <th>current_acct</th>\n",
       "      <th>mortgage</th>\n",
       "      <th>pep</th>\n",
       "    </tr>\n",
       "  </thead>\n",
       "  <tbody>\n",
       "    <tr>\n",
       "      <th>0</th>\n",
       "      <td>NO</td>\n",
       "      <td>ID12101</td>\n",
       "      <td>48</td>\n",
       "      <td>17546.00</td>\n",
       "      <td>1</td>\n",
       "      <td>FEMALE</td>\n",
       "      <td>INNER_CITY</td>\n",
       "      <td>NO</td>\n",
       "      <td>NO</td>\n",
       "      <td>NO</td>\n",
       "      <td>NO</td>\n",
       "      <td>YES</td>\n",
       "    </tr>\n",
       "    <tr>\n",
       "      <th>1</th>\n",
       "      <td>NO</td>\n",
       "      <td>ID12102</td>\n",
       "      <td>40</td>\n",
       "      <td>30085.10</td>\n",
       "      <td>3</td>\n",
       "      <td>MALE</td>\n",
       "      <td>TOWN</td>\n",
       "      <td>YES</td>\n",
       "      <td>YES</td>\n",
       "      <td>YES</td>\n",
       "      <td>YES</td>\n",
       "      <td>NO</td>\n",
       "    </tr>\n",
       "    <tr>\n",
       "      <th>2</th>\n",
       "      <td>YES</td>\n",
       "      <td>ID12103</td>\n",
       "      <td>51</td>\n",
       "      <td>16575.40</td>\n",
       "      <td>0</td>\n",
       "      <td>FEMALE</td>\n",
       "      <td>INNER_CITY</td>\n",
       "      <td>YES</td>\n",
       "      <td>YES</td>\n",
       "      <td>YES</td>\n",
       "      <td>NO</td>\n",
       "      <td>NO</td>\n",
       "    </tr>\n",
       "    <tr>\n",
       "      <th>3</th>\n",
       "      <td>NO</td>\n",
       "      <td>ID12104</td>\n",
       "      <td>23</td>\n",
       "      <td>20375.40</td>\n",
       "      <td>3</td>\n",
       "      <td>FEMALE</td>\n",
       "      <td>TOWN</td>\n",
       "      <td>YES</td>\n",
       "      <td>NO</td>\n",
       "      <td>YES</td>\n",
       "      <td>NO</td>\n",
       "      <td>NO</td>\n",
       "    </tr>\n",
       "    <tr>\n",
       "      <th>4</th>\n",
       "      <td>YES</td>\n",
       "      <td>ID12105</td>\n",
       "      <td>57</td>\n",
       "      <td>50576.30</td>\n",
       "      <td>0</td>\n",
       "      <td>FEMALE</td>\n",
       "      <td>RURAL</td>\n",
       "      <td>YES</td>\n",
       "      <td>NO</td>\n",
       "      <td>NO</td>\n",
       "      <td>NO</td>\n",
       "      <td>NO</td>\n",
       "    </tr>\n",
       "    <tr>\n",
       "      <th>5</th>\n",
       "      <td>YES</td>\n",
       "      <td>ID12106</td>\n",
       "      <td>57</td>\n",
       "      <td>37869.60</td>\n",
       "      <td>2</td>\n",
       "      <td>FEMALE</td>\n",
       "      <td>TOWN</td>\n",
       "      <td>YES</td>\n",
       "      <td>NO</td>\n",
       "      <td>YES</td>\n",
       "      <td>NO</td>\n",
       "      <td>YES</td>\n",
       "    </tr>\n",
       "    <tr>\n",
       "      <th>6</th>\n",
       "      <td>NO</td>\n",
       "      <td>ID12107</td>\n",
       "      <td>22</td>\n",
       "      <td>8877.07</td>\n",
       "      <td>0</td>\n",
       "      <td>MALE</td>\n",
       "      <td>RURAL</td>\n",
       "      <td>NO</td>\n",
       "      <td>NO</td>\n",
       "      <td>YES</td>\n",
       "      <td>NO</td>\n",
       "      <td>YES</td>\n",
       "    </tr>\n",
       "    <tr>\n",
       "      <th>7</th>\n",
       "      <td>YES</td>\n",
       "      <td>ID12108</td>\n",
       "      <td>58</td>\n",
       "      <td>24946.60</td>\n",
       "      <td>0</td>\n",
       "      <td>MALE</td>\n",
       "      <td>TOWN</td>\n",
       "      <td>YES</td>\n",
       "      <td>YES</td>\n",
       "      <td>YES</td>\n",
       "      <td>NO</td>\n",
       "      <td>NO</td>\n",
       "    </tr>\n",
       "    <tr>\n",
       "      <th>8</th>\n",
       "      <td>NO</td>\n",
       "      <td>ID12109</td>\n",
       "      <td>37</td>\n",
       "      <td>25304.30</td>\n",
       "      <td>2</td>\n",
       "      <td>FEMALE</td>\n",
       "      <td>SUBURBAN</td>\n",
       "      <td>YES</td>\n",
       "      <td>YES</td>\n",
       "      <td>NO</td>\n",
       "      <td>NO</td>\n",
       "      <td>NO</td>\n",
       "    </tr>\n",
       "    <tr>\n",
       "      <th>9</th>\n",
       "      <td>YES</td>\n",
       "      <td>ID12110</td>\n",
       "      <td>54</td>\n",
       "      <td>24212.10</td>\n",
       "      <td>2</td>\n",
       "      <td>MALE</td>\n",
       "      <td>TOWN</td>\n",
       "      <td>YES</td>\n",
       "      <td>YES</td>\n",
       "      <td>YES</td>\n",
       "      <td>NO</td>\n",
       "      <td>NO</td>\n",
       "    </tr>\n",
       "  </tbody>\n",
       "</table>\n",
       "</div>"
      ],
      "text/plain": [
       "  savings_acct       id  age    income  children  gender      region married  \\\n",
       "0           NO  ID12101   48  17546.00         1  FEMALE  INNER_CITY      NO   \n",
       "1           NO  ID12102   40  30085.10         3    MALE        TOWN     YES   \n",
       "2          YES  ID12103   51  16575.40         0  FEMALE  INNER_CITY     YES   \n",
       "3           NO  ID12104   23  20375.40         3  FEMALE        TOWN     YES   \n",
       "4          YES  ID12105   57  50576.30         0  FEMALE       RURAL     YES   \n",
       "5          YES  ID12106   57  37869.60         2  FEMALE        TOWN     YES   \n",
       "6           NO  ID12107   22   8877.07         0    MALE       RURAL      NO   \n",
       "7          YES  ID12108   58  24946.60         0    MALE        TOWN     YES   \n",
       "8           NO  ID12109   37  25304.30         2  FEMALE    SUBURBAN     YES   \n",
       "9          YES  ID12110   54  24212.10         2    MALE        TOWN     YES   \n",
       "\n",
       "   car current_acct mortgage  pep  \n",
       "0   NO           NO       NO  YES  \n",
       "1  YES          YES      YES   NO  \n",
       "2  YES          YES       NO   NO  \n",
       "3   NO          YES       NO   NO  \n",
       "4   NO           NO       NO   NO  \n",
       "5   NO          YES       NO  YES  \n",
       "6   NO          YES       NO  YES  \n",
       "7  YES          YES       NO   NO  \n",
       "8  YES           NO       NO   NO  \n",
       "9  YES          YES       NO   NO  "
      ]
     },
     "execution_count": 4,
     "metadata": {},
     "output_type": "execute_result"
    }
   ],
   "source": [
    "# designate target variable name\n",
    "targetName = 'savings_acct'\n",
    "targetSeries = bank[targetName]\n",
    "#remove target from current location and insert in collum 0\n",
    "del bank[targetName]\n",
    "bank.insert(0, targetName, targetSeries)\n",
    "#reprint dataframe and see target is in position 0\n",
    "bank.head(10)"
   ]
  },
  {
   "cell_type": "markdown",
   "metadata": {},
   "source": [
    "# ID column needs to be removed since I do not believe it has predictive power"
   ]
  },
  {
   "cell_type": "code",
   "execution_count": 5,
   "metadata": {},
   "outputs": [
    {
     "data": {
      "text/html": [
       "<div>\n",
       "<style scoped>\n",
       "    .dataframe tbody tr th:only-of-type {\n",
       "        vertical-align: middle;\n",
       "    }\n",
       "\n",
       "    .dataframe tbody tr th {\n",
       "        vertical-align: top;\n",
       "    }\n",
       "\n",
       "    .dataframe thead th {\n",
       "        text-align: right;\n",
       "    }\n",
       "</style>\n",
       "<table border=\"1\" class=\"dataframe\">\n",
       "  <thead>\n",
       "    <tr style=\"text-align: right;\">\n",
       "      <th></th>\n",
       "      <th>savings_acct</th>\n",
       "      <th>age</th>\n",
       "      <th>income</th>\n",
       "      <th>children</th>\n",
       "      <th>gender</th>\n",
       "      <th>region</th>\n",
       "      <th>married</th>\n",
       "      <th>car</th>\n",
       "      <th>current_acct</th>\n",
       "      <th>mortgage</th>\n",
       "      <th>pep</th>\n",
       "    </tr>\n",
       "  </thead>\n",
       "  <tbody>\n",
       "    <tr>\n",
       "      <th>0</th>\n",
       "      <td>NO</td>\n",
       "      <td>48</td>\n",
       "      <td>17546.00</td>\n",
       "      <td>1</td>\n",
       "      <td>FEMALE</td>\n",
       "      <td>INNER_CITY</td>\n",
       "      <td>NO</td>\n",
       "      <td>NO</td>\n",
       "      <td>NO</td>\n",
       "      <td>NO</td>\n",
       "      <td>YES</td>\n",
       "    </tr>\n",
       "    <tr>\n",
       "      <th>1</th>\n",
       "      <td>NO</td>\n",
       "      <td>40</td>\n",
       "      <td>30085.10</td>\n",
       "      <td>3</td>\n",
       "      <td>MALE</td>\n",
       "      <td>TOWN</td>\n",
       "      <td>YES</td>\n",
       "      <td>YES</td>\n",
       "      <td>YES</td>\n",
       "      <td>YES</td>\n",
       "      <td>NO</td>\n",
       "    </tr>\n",
       "    <tr>\n",
       "      <th>2</th>\n",
       "      <td>YES</td>\n",
       "      <td>51</td>\n",
       "      <td>16575.40</td>\n",
       "      <td>0</td>\n",
       "      <td>FEMALE</td>\n",
       "      <td>INNER_CITY</td>\n",
       "      <td>YES</td>\n",
       "      <td>YES</td>\n",
       "      <td>YES</td>\n",
       "      <td>NO</td>\n",
       "      <td>NO</td>\n",
       "    </tr>\n",
       "    <tr>\n",
       "      <th>3</th>\n",
       "      <td>NO</td>\n",
       "      <td>23</td>\n",
       "      <td>20375.40</td>\n",
       "      <td>3</td>\n",
       "      <td>FEMALE</td>\n",
       "      <td>TOWN</td>\n",
       "      <td>YES</td>\n",
       "      <td>NO</td>\n",
       "      <td>YES</td>\n",
       "      <td>NO</td>\n",
       "      <td>NO</td>\n",
       "    </tr>\n",
       "    <tr>\n",
       "      <th>4</th>\n",
       "      <td>YES</td>\n",
       "      <td>57</td>\n",
       "      <td>50576.30</td>\n",
       "      <td>0</td>\n",
       "      <td>FEMALE</td>\n",
       "      <td>RURAL</td>\n",
       "      <td>YES</td>\n",
       "      <td>NO</td>\n",
       "      <td>NO</td>\n",
       "      <td>NO</td>\n",
       "      <td>NO</td>\n",
       "    </tr>\n",
       "    <tr>\n",
       "      <th>5</th>\n",
       "      <td>YES</td>\n",
       "      <td>57</td>\n",
       "      <td>37869.60</td>\n",
       "      <td>2</td>\n",
       "      <td>FEMALE</td>\n",
       "      <td>TOWN</td>\n",
       "      <td>YES</td>\n",
       "      <td>NO</td>\n",
       "      <td>YES</td>\n",
       "      <td>NO</td>\n",
       "      <td>YES</td>\n",
       "    </tr>\n",
       "    <tr>\n",
       "      <th>6</th>\n",
       "      <td>NO</td>\n",
       "      <td>22</td>\n",
       "      <td>8877.07</td>\n",
       "      <td>0</td>\n",
       "      <td>MALE</td>\n",
       "      <td>RURAL</td>\n",
       "      <td>NO</td>\n",
       "      <td>NO</td>\n",
       "      <td>YES</td>\n",
       "      <td>NO</td>\n",
       "      <td>YES</td>\n",
       "    </tr>\n",
       "    <tr>\n",
       "      <th>7</th>\n",
       "      <td>YES</td>\n",
       "      <td>58</td>\n",
       "      <td>24946.60</td>\n",
       "      <td>0</td>\n",
       "      <td>MALE</td>\n",
       "      <td>TOWN</td>\n",
       "      <td>YES</td>\n",
       "      <td>YES</td>\n",
       "      <td>YES</td>\n",
       "      <td>NO</td>\n",
       "      <td>NO</td>\n",
       "    </tr>\n",
       "    <tr>\n",
       "      <th>8</th>\n",
       "      <td>NO</td>\n",
       "      <td>37</td>\n",
       "      <td>25304.30</td>\n",
       "      <td>2</td>\n",
       "      <td>FEMALE</td>\n",
       "      <td>SUBURBAN</td>\n",
       "      <td>YES</td>\n",
       "      <td>YES</td>\n",
       "      <td>NO</td>\n",
       "      <td>NO</td>\n",
       "      <td>NO</td>\n",
       "    </tr>\n",
       "    <tr>\n",
       "      <th>9</th>\n",
       "      <td>YES</td>\n",
       "      <td>54</td>\n",
       "      <td>24212.10</td>\n",
       "      <td>2</td>\n",
       "      <td>MALE</td>\n",
       "      <td>TOWN</td>\n",
       "      <td>YES</td>\n",
       "      <td>YES</td>\n",
       "      <td>YES</td>\n",
       "      <td>NO</td>\n",
       "      <td>NO</td>\n",
       "    </tr>\n",
       "  </tbody>\n",
       "</table>\n",
       "</div>"
      ],
      "text/plain": [
       "  savings_acct  age    income  children  gender      region married  car  \\\n",
       "0           NO   48  17546.00         1  FEMALE  INNER_CITY      NO   NO   \n",
       "1           NO   40  30085.10         3    MALE        TOWN     YES  YES   \n",
       "2          YES   51  16575.40         0  FEMALE  INNER_CITY     YES  YES   \n",
       "3           NO   23  20375.40         3  FEMALE        TOWN     YES   NO   \n",
       "4          YES   57  50576.30         0  FEMALE       RURAL     YES   NO   \n",
       "5          YES   57  37869.60         2  FEMALE        TOWN     YES   NO   \n",
       "6           NO   22   8877.07         0    MALE       RURAL      NO   NO   \n",
       "7          YES   58  24946.60         0    MALE        TOWN     YES  YES   \n",
       "8           NO   37  25304.30         2  FEMALE    SUBURBAN     YES  YES   \n",
       "9          YES   54  24212.10         2    MALE        TOWN     YES  YES   \n",
       "\n",
       "  current_acct mortgage  pep  \n",
       "0           NO       NO  YES  \n",
       "1          YES      YES   NO  \n",
       "2          YES       NO   NO  \n",
       "3          YES       NO   NO  \n",
       "4           NO       NO   NO  \n",
       "5          YES       NO  YES  \n",
       "6          YES       NO  YES  \n",
       "7          YES       NO   NO  \n",
       "8           NO       NO   NO  \n",
       "9          YES       NO   NO  "
      ]
     },
     "execution_count": 5,
     "metadata": {},
     "output_type": "execute_result"
    }
   ],
   "source": [
    "#Note: axis=1 denotes that we are referring to a column, not a row\n",
    "bank=bank.drop('id',axis=1) #axis 0 is for rows, axis 1 is for columns\n",
    "bank.head(10)"
   ]
  },
  {
   "cell_type": "markdown",
   "metadata": {},
   "source": [
    "# EDA on the Target"
   ]
  },
  {
   "cell_type": "code",
   "execution_count": 6,
   "metadata": {},
   "outputs": [
    {
     "data": {
      "text/plain": [
       "YES    414\n",
       "NO     186\n",
       "Name: savings_acct, dtype: int64"
      ]
     },
     "execution_count": 6,
     "metadata": {},
     "output_type": "execute_result"
    },
    {
     "data": {
      "image/png": "[encoded data removed]",
      "text/plain": [
       "<Figure size 432x288 with 1 Axes>"
      ]
     },
     "metadata": {
      "needs_background": "light"
     },
     "output_type": "display_data"
    }
   ],
   "source": [
    "#Basic bar chart since the target is binominal\n",
    "grouped_target = bank.groupby(targetName)\n",
    "targetEDA=grouped_target[targetName].aggregate(len)\n",
    "\n",
    "plt.figure()\n",
    "targetEDA.plot(kind='bar', grid=False)\n",
    "plt.axhline(0, color='k')\n",
    "\n",
    "bank[targetName].value_counts()"
   ]
  },
  {
   "cell_type": "code",
   "execution_count": 7,
   "metadata": {},
   "outputs": [
    {
     "data": {
      "text/plain": [
       "YES    0.69\n",
       "NO     0.31\n",
       "Name: savings_acct, dtype: float64"
      ]
     },
     "execution_count": 7,
     "metadata": {},
     "output_type": "execute_result"
    }
   ],
   "source": [
    "#get percentages, using a different method\n",
    "bank[targetName].value_counts(normalize=True)"
   ]
  },
  {
   "cell_type": "markdown",
   "metadata": {},
   "source": [
    "# Preprocessing of Data"
   ]
  },
  {
   "cell_type": "markdown",
   "metadata": {},
   "source": [
    "Preprocessing\n",
    "The below two steps are for preprocessing. The first cell changes the yes/no of the target to numeric. I needed to do this as some models require the target to be numeric. The second cell takes all the category features and creates dummies with them. This is stock code I have used for long time (and I did not write it). It is nice because it will take any dataframe of any size and handle categorial features. I do not have to change a single line in it. It can be used generically on bascially any dataframe. Saves a lot of time of coding each feature."
   ]
  },
  {
   "cell_type": "code",
   "execution_count": 8,
   "metadata": {},
   "outputs": [
    {
     "data": {
      "text/plain": [
       "1    414\n",
       "0    186\n",
       "Name: savings_acct, dtype: int64"
      ]
     },
     "execution_count": 8,
     "metadata": {},
     "output_type": "execute_result"
    }
   ],
   "source": [
    "\n",
    "# This code turns a text target into numeric to some scikit learn alogrythms can process it\n",
    "le_dep = preprocessing.LabelEncoder()\n",
    "#to convert into numbers\n",
    "bank['savings_acct'] = le_dep.fit_transform(bank['savings_acct'])\n",
    "\n",
    "bank.savings_acct.value_counts()"
   ]
  },
  {
   "cell_type": "code",
   "execution_count": 11,
   "metadata": {},
   "outputs": [
    {
     "name": "stdout",
     "output_type": "stream",
     "text": [
      "Column:  age ; missing?   ; # unique values:  50\n",
      "Column:  income ; missing?   ; # unique values:  599\n",
      "Column:  children ; missing?   ; # unique values:  4\n",
      "Column:  gender_MALE ; missing?   ; # unique values:  2\n",
      "Column:  region_RURAL ; missing?   ; # unique values:  2\n",
      "Column:  region_SUBURBAN ; missing?   ; # unique values:  2\n",
      "Column:  region_TOWN ; missing?   ; # unique values:  2\n",
      "Column:  married_YES ; missing?   ; # unique values:  2\n",
      "Column:  car_YES ; missing?   ; # unique values:  2\n",
      "Column:  current_acct_YES ; missing?   ; # unique values:  2\n",
      "Column:  mortgage_YES ; missing?   ; # unique values:  2\n",
      "Column:  pep_YES ; missing?   ; # unique values:  2\n"
     ]
    }
   ],
   "source": [
    "# perform data transformation. Creates dummies of any categorical feature\n",
    "for col in bank.columns[1:]:\n",
    "    attName = col\n",
    "    dType = bank[col].dtype\n",
    "    missing = pd.isnull(bank[col]).any()\n",
    "    uniqueCount = len(bank[attName].value_counts(normalize=False))\n",
    "    print(\"Column: \", attName, \"; missing? \", \" ; # unique values: \", uniqueCount)\n",
    "    # discretize (create dummies)\n",
    "    if dType == object:\n",
    "        bank = pd.concat([bank, pd.get_dummies(bank[col], prefix=col, drop_first=True)], axis=1) #drop_first=True\n",
    "        del bank[attName]\n"
   ]
  },
  {
   "cell_type": "markdown",
   "metadata": {},
   "source": [
    "# Notice new shape and format of the dataframe. It is now ready to data mine"
   ]
  },
  {
   "cell_type": "code",
   "execution_count": 12,
   "metadata": {},
   "outputs": [
    {
     "data": {
      "text/plain": [
       "(600, 13)"
      ]
     },
     "execution_count": 12,
     "metadata": {},
     "output_type": "execute_result"
    }
   ],
   "source": [
    "bank.shape"
   ]
  },
  {
   "cell_type": "code",
   "execution_count": 13,
   "metadata": {},
   "outputs": [
    {
     "data": {
      "text/html": [
       "<div>\n",
       "<style scoped>\n",
       "    .dataframe tbody tr th:only-of-type {\n",
       "        vertical-align: middle;\n",
       "    }\n",
       "\n",
       "    .dataframe tbody tr th {\n",
       "        vertical-align: top;\n",
       "    }\n",
       "\n",
       "    .dataframe thead th {\n",
       "        text-align: right;\n",
       "    }\n",
       "</style>\n",
       "<table border=\"1\" class=\"dataframe\">\n",
       "  <thead>\n",
       "    <tr style=\"text-align: right;\">\n",
       "      <th></th>\n",
       "      <th>savings_acct</th>\n",
       "      <th>age</th>\n",
       "      <th>income</th>\n",
       "      <th>children</th>\n",
       "      <th>gender_MALE</th>\n",
       "      <th>region_RURAL</th>\n",
       "      <th>region_SUBURBAN</th>\n",
       "      <th>region_TOWN</th>\n",
       "      <th>married_YES</th>\n",
       "      <th>car_YES</th>\n",
       "      <th>current_acct_YES</th>\n",
       "      <th>mortgage_YES</th>\n",
       "      <th>pep_YES</th>\n",
       "    </tr>\n",
       "  </thead>\n",
       "  <tbody>\n",
       "    <tr>\n",
       "      <th>0</th>\n",
       "      <td>0</td>\n",
       "      <td>48</td>\n",
       "      <td>17546.00</td>\n",
       "      <td>1</td>\n",
       "      <td>0</td>\n",
       "      <td>0</td>\n",
       "      <td>0</td>\n",
       "      <td>0</td>\n",
       "      <td>0</td>\n",
       "      <td>0</td>\n",
       "      <td>0</td>\n",
       "      <td>0</td>\n",
       "      <td>1</td>\n",
       "    </tr>\n",
       "    <tr>\n",
       "      <th>1</th>\n",
       "      <td>0</td>\n",
       "      <td>40</td>\n",
       "      <td>30085.10</td>\n",
       "      <td>3</td>\n",
       "      <td>1</td>\n",
       "      <td>0</td>\n",
       "      <td>0</td>\n",
       "      <td>1</td>\n",
       "      <td>1</td>\n",
       "      <td>1</td>\n",
       "      <td>1</td>\n",
       "      <td>1</td>\n",
       "      <td>0</td>\n",
       "    </tr>\n",
       "    <tr>\n",
       "      <th>2</th>\n",
       "      <td>1</td>\n",
       "      <td>51</td>\n",
       "      <td>16575.40</td>\n",
       "      <td>0</td>\n",
       "      <td>0</td>\n",
       "      <td>0</td>\n",
       "      <td>0</td>\n",
       "      <td>0</td>\n",
       "      <td>1</td>\n",
       "      <td>1</td>\n",
       "      <td>1</td>\n",
       "      <td>0</td>\n",
       "      <td>0</td>\n",
       "    </tr>\n",
       "    <tr>\n",
       "      <th>3</th>\n",
       "      <td>0</td>\n",
       "      <td>23</td>\n",
       "      <td>20375.40</td>\n",
       "      <td>3</td>\n",
       "      <td>0</td>\n",
       "      <td>0</td>\n",
       "      <td>0</td>\n",
       "      <td>1</td>\n",
       "      <td>1</td>\n",
       "      <td>0</td>\n",
       "      <td>1</td>\n",
       "      <td>0</td>\n",
       "      <td>0</td>\n",
       "    </tr>\n",
       "    <tr>\n",
       "      <th>4</th>\n",
       "      <td>1</td>\n",
       "      <td>57</td>\n",
       "      <td>50576.30</td>\n",
       "      <td>0</td>\n",
       "      <td>0</td>\n",
       "      <td>1</td>\n",
       "      <td>0</td>\n",
       "      <td>0</td>\n",
       "      <td>1</td>\n",
       "      <td>0</td>\n",
       "      <td>0</td>\n",
       "      <td>0</td>\n",
       "      <td>0</td>\n",
       "    </tr>\n",
       "    <tr>\n",
       "      <th>5</th>\n",
       "      <td>1</td>\n",
       "      <td>57</td>\n",
       "      <td>37869.60</td>\n",
       "      <td>2</td>\n",
       "      <td>0</td>\n",
       "      <td>0</td>\n",
       "      <td>0</td>\n",
       "      <td>1</td>\n",
       "      <td>1</td>\n",
       "      <td>0</td>\n",
       "      <td>1</td>\n",
       "      <td>0</td>\n",
       "      <td>1</td>\n",
       "    </tr>\n",
       "    <tr>\n",
       "      <th>6</th>\n",
       "      <td>0</td>\n",
       "      <td>22</td>\n",
       "      <td>8877.07</td>\n",
       "      <td>0</td>\n",
       "      <td>1</td>\n",
       "      <td>1</td>\n",
       "      <td>0</td>\n",
       "      <td>0</td>\n",
       "      <td>0</td>\n",
       "      <td>0</td>\n",
       "      <td>1</td>\n",
       "      <td>0</td>\n",
       "      <td>1</td>\n",
       "    </tr>\n",
       "    <tr>\n",
       "      <th>7</th>\n",
       "      <td>1</td>\n",
       "      <td>58</td>\n",
       "      <td>24946.60</td>\n",
       "      <td>0</td>\n",
       "      <td>1</td>\n",
       "      <td>0</td>\n",
       "      <td>0</td>\n",
       "      <td>1</td>\n",
       "      <td>1</td>\n",
       "      <td>1</td>\n",
       "      <td>1</td>\n",
       "      <td>0</td>\n",
       "      <td>0</td>\n",
       "    </tr>\n",
       "    <tr>\n",
       "      <th>8</th>\n",
       "      <td>0</td>\n",
       "      <td>37</td>\n",
       "      <td>25304.30</td>\n",
       "      <td>2</td>\n",
       "      <td>0</td>\n",
       "      <td>0</td>\n",
       "      <td>1</td>\n",
       "      <td>0</td>\n",
       "      <td>1</td>\n",
       "      <td>1</td>\n",
       "      <td>0</td>\n",
       "      <td>0</td>\n",
       "      <td>0</td>\n",
       "    </tr>\n",
       "    <tr>\n",
       "      <th>9</th>\n",
       "      <td>1</td>\n",
       "      <td>54</td>\n",
       "      <td>24212.10</td>\n",
       "      <td>2</td>\n",
       "      <td>1</td>\n",
       "      <td>0</td>\n",
       "      <td>0</td>\n",
       "      <td>1</td>\n",
       "      <td>1</td>\n",
       "      <td>1</td>\n",
       "      <td>1</td>\n",
       "      <td>0</td>\n",
       "      <td>0</td>\n",
       "    </tr>\n",
       "  </tbody>\n",
       "</table>\n",
       "</div>"
      ],
      "text/plain": [
       "   savings_acct  age    income  children  gender_MALE  region_RURAL  \\\n",
       "0             0   48  17546.00         1            0             0   \n",
       "1             0   40  30085.10         3            1             0   \n",
       "2             1   51  16575.40         0            0             0   \n",
       "3             0   23  20375.40         3            0             0   \n",
       "4             1   57  50576.30         0            0             1   \n",
       "5             1   57  37869.60         2            0             0   \n",
       "6             0   22   8877.07         0            1             1   \n",
       "7             1   58  24946.60         0            1             0   \n",
       "8             0   37  25304.30         2            0             0   \n",
       "9             1   54  24212.10         2            1             0   \n",
       "\n",
       "   region_SUBURBAN  region_TOWN  married_YES  car_YES  current_acct_YES  \\\n",
       "0                0            0            0        0                 0   \n",
       "1                0            1            1        1                 1   \n",
       "2                0            0            1        1                 1   \n",
       "3                0            1            1        0                 1   \n",
       "4                0            0            1        0                 0   \n",
       "5                0            1            1        0                 1   \n",
       "6                0            0            0        0                 1   \n",
       "7                0            1            1        1                 1   \n",
       "8                1            0            1        1                 0   \n",
       "9                0            1            1        1                 1   \n",
       "\n",
       "   mortgage_YES  pep_YES  \n",
       "0             0        1  \n",
       "1             1        0  \n",
       "2             0        0  \n",
       "3             0        0  \n",
       "4             0        0  \n",
       "5             0        1  \n",
       "6             0        1  \n",
       "7             0        0  \n",
       "8             0        0  \n",
       "9             0        0  "
      ]
     },
     "execution_count": 13,
     "metadata": {},
     "output_type": "execute_result"
    }
   ],
   "source": [
    "bank.head(10)"
   ]
  },
  {
   "cell_type": "markdown",
   "metadata": {},
   "source": [
    "# Randomly split your dataset into Train/Test "
   ]
  },
  {
   "cell_type": "markdown",
   "metadata": {},
   "source": [
    "I split the data into a 60/40 train test. The features are stored in \"features_train\" and \"features_test\". The targets are in \"target_train\" and \"target_test\". I used a biggest test when I have an imbalanced set."
   ]
  },
  {
   "cell_type": "code",
   "execution_count": 14,
   "metadata": {},
   "outputs": [],
   "source": [
    "\n",
    "# split dataset into testing and training\n",
    "features_train, features_test, target_train, target_test = train_test_split(\n",
    "    bank.iloc[:,1:], bank.iloc[:,0], test_size=0.40, random_state=0)"
   ]
  },
  {
   "cell_type": "markdown",
   "metadata": {},
   "source": [
    "## Note the four new train/test files and their shapes. "
   ]
  },
  {
   "cell_type": "code",
   "execution_count": 15,
   "metadata": {},
   "outputs": [
    {
     "name": "stdout",
     "output_type": "stream",
     "text": [
      "(240, 12)\n",
      "(360, 12)\n",
      "(240,)\n",
      "(360,)\n",
      "\n",
      "Training Data Target Distribution 1    0.725\n",
      "0    0.275\n",
      "Name: savings_acct, dtype: float64\n",
      "\n",
      "Test Data Target Distribution 1    0.6375\n",
      "0    0.3625\n",
      "Name: savings_acct, dtype: float64\n"
     ]
    }
   ],
   "source": [
    "print(features_test.shape)\n",
    "print(features_train.shape)\n",
    "print(target_test.shape)\n",
    "print(target_train.shape)\n",
    "print(\"\")\n",
    "print(\"Training Data Target Distribution\", target_train.value_counts(normalize=True))\n",
    "print(\"\")\n",
    "print(\"Test Data Target Distribution\", target_test.value_counts(normalize=True))"
   ]
  },
  {
   "cell_type": "markdown",
   "metadata": {},
   "source": [
    "# Run a Decision Tree Model via Scikit Learn using the above created train/test files"
   ]
  },
  {
   "cell_type": "code",
   "execution_count": 16,
   "metadata": {},
   "outputs": [],
   "source": [
    "#Decision Tree train model. Call up my model and name it clf\n",
    "\n",
    "clf_dt = tree.DecisionTreeClassifier(max_depth=4) #\n",
    "#see everything you can tune in the documentations: https://scikit-learn.org/stable/modules/generated/sklearn.tree.DecisionTreeClassifier.html\n",
    "\n",
    "#Fit clf to the training data\n",
    "clf_dt = clf_dt.fit(features_train, target_train)\n",
    "#Predict clf DT model again test data\n",
    "target_predicted_dt = clf_dt.predict(features_test)\n"
   ]
  },
  {
   "cell_type": "markdown",
   "metadata": {},
   "source": [
    "# Obtain Accuracy of Model"
   ]
  },
  {
   "cell_type": "code",
   "execution_count": 17,
   "metadata": {},
   "outputs": [
    {
     "name": "stdout",
     "output_type": "stream",
     "text": [
      "DT Accuracy Score 0.6375\n",
      "\n",
      "              precision    recall  f1-score   support\n",
      "\n",
      "           0       0.50      0.14      0.22        87\n",
      "           1       0.65      0.92      0.76       153\n",
      "\n",
      "    accuracy                           0.64       240\n",
      "   macro avg       0.58      0.53      0.49       240\n",
      "weighted avg       0.60      0.64      0.57       240\n",
      "\n",
      "\n",
      "[[ 12  75]\n",
      " [ 12 141]]\n"
     ]
    }
   ],
   "source": [
    "print(\"DT Accuracy Score\", accuracy_score(target_test, target_predicted_dt))\n",
    "print(\"\")\n",
    "print(classification_report(target_test, target_predicted_dt))\n",
    "print(\"\")\n",
    "print(confusion_matrix(target_test, target_predicted_dt))\n"
   ]
  },
  {
   "cell_type": "markdown",
   "metadata": {},
   "source": [
    "# Crossvalidate Tree"
   ]
  },
  {
   "cell_type": "markdown",
   "metadata": {},
   "source": [
    "I cross validated with 10 repeats. You can see the OOB score for each repeat and the mean. Are the CV results stable? If not, the model might be overfitting. "
   ]
  },
  {
   "cell_type": "code",
   "execution_count": 21,
   "metadata": {},
   "outputs": [
    {
     "name": "stdout",
     "output_type": "stream",
     "text": [
      "Cross Validation Score for each K [0.72222222 0.66666667 0.75       0.72222222 0.75       0.66666667\n",
      " 0.72222222 0.66666667 0.66666667 0.75      ]\n"
     ]
    },
    {
     "data": {
      "text/plain": [
       "0.7083333333333333"
      ]
     },
     "execution_count": 21,
     "metadata": {},
     "output_type": "execute_result"
    }
   ],
   "source": [
    "#verify DT with Cross Validation\n",
    "scores = cross_val_score(clf_dt, features_train, target_train, cv=10)\n",
    "print(\"Cross Validation Score for each K\",scores)\n",
    "scores.mean()          "
   ]
  },
  {
   "cell_type": "markdown",
   "metadata": {},
   "source": [
    "# Visualize the Decision Tree\n",
    "\n"
   ]
  },
  {
   "cell_type": "code",
   "execution_count": 20,
   "metadata": {},
   "outputs": [
    {
     "data": {
      "image/png": "[encoded data removed]",
      "text/plain": [
       "<Figure size 1440x720 with 1 Axes>"
      ]
     },
     "metadata": {
      "needs_background": "light"
     },
     "output_type": "display_data"
    },
    {
     "data": {
      "text/plain": [
       "<Figure size 432x288 with 0 Axes>"
      ]
     },
     "metadata": {},
     "output_type": "display_data"
    }
   ],
   "source": [
    "from IPython.display import Image\n",
    "\n",
    "plt.figure(figsize=(20, 10)) #50,30 #20,10\n",
    "\n",
    "tree.plot_tree(clf_dt, \n",
    "               filled=True, rounded=True, \n",
    "               feature_names = features_train.columns,\n",
    "               class_names = ['NO', 'YES'], #double check this\n",
    "               fontsize=10)\n",
    "\n",
    "plt.show()\n",
    "#plt.savefig('../treeplot.png')\n"
   ]
  },
  {
   "cell_type": "markdown",
   "metadata": {},
   "source": [
    "# Logistic Regression"
   ]
  },
  {
   "cell_type": "code",
   "execution_count": 22,
   "metadata": {},
   "outputs": [
    {
     "name": "stdout",
     "output_type": "stream",
     "text": [
      "LR Accuracy Score 0.6583333333333333\n",
      "\n",
      "              precision    recall  f1-score   support\n",
      "\n",
      "           0       0.67      0.11      0.20        87\n",
      "           1       0.66      0.97      0.78       153\n",
      "\n",
      "    accuracy                           0.66       240\n",
      "   macro avg       0.66      0.54      0.49       240\n",
      "weighted avg       0.66      0.66      0.57       240\n",
      "\n",
      "\n"
     ]
    },
    {
     "data": {
      "text/plain": [
       "<sklearn.metrics._plot.confusion_matrix.ConfusionMatrixDisplay at 0x2779bc37af0>"
      ]
     },
     "execution_count": 22,
     "metadata": {},
     "output_type": "execute_result"
    },
    {
     "data": {
      "image/png": "[encoded data removed]",
      "text/plain": [
       "<Figure size 432x288 with 2 Axes>"
      ]
     },
     "metadata": {
      "needs_background": "light"
     },
     "output_type": "display_data"
    }
   ],
   "source": [
    "#initialize Logistic Regression object\n",
    "lr = LogisticRegression()\n",
    "\n",
    "lr.fit(features_train, target_train)\n",
    "lr_preds = lr.predict(features_test)\n",
    "\n",
    "print(\"LR Accuracy Score\", accuracy_score(target_test, lr_preds))\n",
    "print(\"\")\n",
    "print(classification_report(target_test, lr_preds))\n",
    "print(\"\")\n",
    "cm = confusion_matrix(target_test, lr_preds)\n",
    "disp = ConfusionMatrixDisplay(confusion_matrix=cm)\n",
    "disp.plot()\n",
    "\n"
   ]
  },
  {
   "cell_type": "markdown",
   "metadata": {},
   "source": [
    "# Logistic Regression with PCA\n",
    "Let's try something a little different. This time, we'll use something called Principal Component Analysis to reduce the dimensionality of our dataset. Once we transform the data, we can then call the Logistic Regression class on the data. "
   ]
  },
  {
   "cell_type": "code",
   "execution_count": 23,
   "metadata": {},
   "outputs": [
    {
     "name": "stdout",
     "output_type": "stream",
     "text": [
      "LR2 Accuracy Score 0.625\n",
      "\n",
      "              precision    recall  f1-score   support\n",
      "\n",
      "           0       0.20      0.01      0.02        87\n",
      "           1       0.63      0.97      0.77       153\n",
      "\n",
      "    accuracy                           0.62       240\n",
      "   macro avg       0.42      0.49      0.39       240\n",
      "weighted avg       0.48      0.62      0.50       240\n",
      "\n",
      "\n"
     ]
    },
    {
     "data": {
      "text/plain": [
       "<sklearn.metrics._plot.confusion_matrix.ConfusionMatrixDisplay at 0x2779bd13580>"
      ]
     },
     "execution_count": 23,
     "metadata": {},
     "output_type": "execute_result"
    },
    {
     "data": {
      "image/png": "[encoded data removed]",
      "text/plain": [
       "<Figure size 432x288 with 2 Axes>"
      ]
     },
     "metadata": {
      "needs_background": "light"
     },
     "output_type": "display_data"
    }
   ],
   "source": [
    "#initialize PCA object\n",
    "pca = PCA(n_components=3)\n",
    "\n",
    "#initialize Logistic Regression object\n",
    "lr2 = LogisticRegression()\n",
    "\n",
    "#fit and transform the feature space\n",
    "features_train_pca = pca.fit_transform(features_train)\n",
    "features_test_pca = pca.fit_transform(features_test)\n",
    "\n",
    "lr2.fit(features_train_pca, target_train)\n",
    "lr2_preds = lr2.predict(features_test_pca)\n",
    "\n",
    "print(\"LR2 Accuracy Score\", accuracy_score(target_test, lr2_preds))\n",
    "print(\"\")\n",
    "print(classification_report(target_test, lr2_preds))\n",
    "print(\"\")\n",
    "cm = confusion_matrix(target_test, lr2_preds)\n",
    "disp = ConfusionMatrixDisplay(confusion_matrix=cm)\n",
    "disp.plot()\n",
    "\n",
    "\n",
    "\n"
   ]
  },
  {
   "cell_type": "markdown",
   "metadata": {
    "collapsed": true
   },
   "source": [
    "# Add your next model using what you have already processed, below"
   ]
  },
  {
   "cell_type": "markdown",
   "metadata": {},
   "source": [
    "Perhaps try a KNN on the same data\n",
    "http://scikit-learn.org/stable/modules/generated/sklearn.neighbors.KNeighborsClassifier.html\n",
    "Look at your DT model for structure and guidance. \n"
   ]
  },
  {
   "cell_type": "markdown",
   "metadata": {},
   "source": [
    "## Start with:\n",
    "from sklearn.neighbors import KNeighborsClassifier"
   ]
  },
  {
   "cell_type": "code",
   "execution_count": null,
   "metadata": {},
   "outputs": [],
   "source": [
    "#from sklearn.neighbors import KNeighborsClassifier"
   ]
  },
  {
   "cell_type": "code",
   "execution_count": 24,
   "metadata": {
    "scrolled": true
   },
   "outputs": [
    {
     "name": "stdout",
     "output_type": "stream",
     "text": [
      "KNeighborsClassifier()\n",
      "<class 'sklearn.preprocessing._data.StandardScaler'>\n"
     ]
    }
   ],
   "source": [
    "#Build\n",
    "from sklearn.neighbors import KNeighborsClassifier\n",
    "from sklearn.preprocessing import StandardScaler\n",
    "scaler = StandardScaler\n",
    "knn = KNeighborsClassifier()\n",
    "#call up the model to see the parameters you can tune (and their default settings)\n",
    "print(knn)\n",
    "print(scaler)\n",
    "\n",
    "from sklearn.pipeline import make_pipeline\n",
    "clf_knn = make_pipeline(StandardScaler(), KNeighborsClassifier())"
   ]
  },
  {
   "cell_type": "markdown",
   "metadata": {},
   "source": [
    "Here's the documentation for knn: http://scikit-learn.org/stable/modules/generated/sklearn.neighbors.KNeighborsClassifier.html."
   ]
  },
  {
   "cell_type": "code",
   "execution_count": 25,
   "metadata": {},
   "outputs": [],
   "source": [
    "#Train\n",
    "clf_knn = clf_knn.fit(features_train, target_train)"
   ]
  },
  {
   "cell_type": "code",
   "execution_count": 26,
   "metadata": {},
   "outputs": [],
   "source": [
    "#Validate\n",
    "target_predicted_knn = clf_knn.predict(features_test)"
   ]
  },
  {
   "cell_type": "code",
   "execution_count": 27,
   "metadata": {},
   "outputs": [
    {
     "name": "stdout",
     "output_type": "stream",
     "text": [
      "KNN Accuracy Score 0.6291666666666667\n",
      "              precision    recall  f1-score   support\n",
      "\n",
      "           0       0.47      0.22      0.30        87\n",
      "           1       0.66      0.86      0.75       153\n",
      "\n",
      "    accuracy                           0.63       240\n",
      "   macro avg       0.57      0.54      0.52       240\n",
      "weighted avg       0.59      0.63      0.59       240\n",
      "\n",
      "[[ 19  68]\n",
      " [ 21 132]]\n",
      "True Negatives:  19\n",
      "False Positives:  68\n",
      "False Negatives:  21\n",
      "True Positives:  132\n"
     ]
    }
   ],
   "source": [
    "print(\"KNN Accuracy Score\", accuracy_score(target_test, target_predicted_knn))\n",
    "print(classification_report(target_test, target_predicted_knn))\n",
    "print(confusion_matrix(target_test, target_predicted_knn))\n",
    "\n",
    "#extracting true_positives, false_positives, true_negatives, false_negatives\n",
    "tn, fp, fn, tp = confusion_matrix(target_test, target_predicted_knn).ravel()\n",
    "print(\"True Negatives: \",tn)\n",
    "print(\"False Positives: \",fp)\n",
    "print(\"False Negatives: \",fn)\n",
    "print(\"True Positives: \",tp)"
   ]
  },
  {
   "cell_type": "markdown",
   "metadata": {},
   "source": [
    "How does knn=5 classifier stack up against the decision tree classifier?"
   ]
  },
  {
   "cell_type": "markdown",
   "metadata": {},
   "source": [
    "In your homework assignment, you will be asked to prepare a notebook similar to this one. An additional requirement is to run a different classifier of your choice (Example: logistic regression, random forest, etc.). Be sure to check the Scikit Learn documentation for implementation examples. "
   ]
  }
 ],
 "metadata": {
  "kernelspec": {
   "display_name": "Python 3",
   "language": "python",
   "name": "python3"
  },
  "language_info": {
   "codemirror_mode": {
    "name": "ipython",
    "version": 3
   },
   "file_extension": ".py",
   "mimetype": "text/x-python",
   "name": "python",
   "nbconvert_exporter": "python",
   "pygments_lexer": "ipython3",
   "version": "3.8.5"
  }
 },
 "nbformat": 4,
 "nbformat_minor": 2
}
